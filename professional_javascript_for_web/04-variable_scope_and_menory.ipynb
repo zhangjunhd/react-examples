{
 "cells": [
  {
   "cell_type": "markdown",
   "metadata": {},
   "source": [
    "# 4 变量、作用域和内存问题\n",
    "\n",
    "- 基本类型和引用类型\n",
    "- 执行环境及作用域\n",
    "\n",
    "## 基本类型和引用类型\n",
    "基本类型：\n",
    "\n",
    "- Undefined\n",
    "- Null\n",
    "- Boolean\n",
    "- Number\n",
    "- String\n",
    "\n",
    "### 动态的属性\n",
    "对于引用类型，可以添加/删除属性和方法，不能给基本类型添加属性。\n",
    "\n",
    "### 复制变量值\n",
    "基本类型是值拷贝，引用类型拷贝的是指针。\n",
    "\n",
    "### 传递参数\n",
    "ECMAScript中所有函数的参数都是按值传递的。"
   ]
  },
  {
   "cell_type": "code",
   "execution_count": 3,
   "metadata": {
    "collapsed": false
   },
   "outputs": [
    {
     "name": "stdout",
     "output_type": "stream",
     "text": [
      "20\n",
      "30\n",
      "ZJ\n"
     ]
    },
    {
     "data": {
      "text/plain": [
       "undefined"
      ]
     },
     "execution_count": 3,
     "metadata": {},
     "output_type": "execute_result"
    }
   ],
   "source": [
    "// golbal define function alert\n",
    "if((typeof alert) === 'undefined') {\n",
    "    global.alert = function(message) {\n",
    "        console.log(message);\n",
    "    }\n",
    "}\n",
    "\n",
    "function addTen(num) {\n",
    "    num += 10;\n",
    "    return num\n",
    "}\n",
    "\n",
    "function setName(obj) {\n",
    "    obj.name = \"ZJ\";\n",
    "}\n",
    "\n",
    "var count = 20;\n",
    "var result = addTen(count);\n",
    "alert(count);\n",
    "alert(result);\n",
    "\n",
    "var person = new Object();\n",
    "setName(person);\n",
    "alert(person.name);"
   ]
  },
  {
   "cell_type": "code",
   "execution_count": 4,
   "metadata": {
    "collapsed": false
   },
   "outputs": [
    {
     "name": "stdout",
     "output_type": "stream",
     "text": [
      "ZJ\n"
     ]
    },
    {
     "data": {
      "text/plain": [
       "undefined"
      ]
     },
     "execution_count": 4,
     "metadata": {},
     "output_type": "execute_result"
    }
   ],
   "source": [
    "function setName(obj) {\n",
    "    obj.name = \"ZJ\";\n",
    "    obj = new Object();\n",
    "    obj.name = \"newZJ\";\n",
    "}\n",
    "\n",
    "var person = new Object();\n",
    "setName(person);\n",
    "alert(person.name);"
   ]
  },
  {
   "cell_type": "markdown",
   "metadata": {},
   "source": [
    "### 检测类型\n",
    "- 检测基本类型:typeof\n",
    "- 检测引用类型:instanceof(typeof返回的都是Object)"
   ]
  },
  {
   "cell_type": "code",
   "execution_count": 9,
   "metadata": {
    "collapsed": false
   },
   "outputs": [
    {
     "name": "stdout",
     "output_type": "stream",
     "text": [
      "string\n",
      "boolean\n",
      "number\n",
      "undefined\n",
      "object\n",
      "object\n",
      "---\n",
      "true\n",
      "object\n",
      "true\n",
      "object\n",
      "true\n"
     ]
    },
    {
     "data": {
      "text/plain": [
       "undefined"
      ]
     },
     "execution_count": 9,
     "metadata": {},
     "output_type": "execute_result"
    }
   ],
   "source": [
    "var s = \"ZJ\";\n",
    "var b = true;\n",
    "var i = 22;\n",
    "var u;\n",
    "var n = null;\n",
    "var o = new Object();\n",
    "\n",
    "alert(typeof s);\n",
    "alert(typeof b);\n",
    "alert(typeof i);\n",
    "alert(typeof u);\n",
    "alert(typeof n);\n",
    "alert(typeof o);\n",
    "alert(\"---\");\n",
    "colors = new Array();\n",
    "pattern = new RegExp();\n",
    "\n",
    "alert(person instanceof Object);\n",
    "alert(typeof colors);\n",
    "alert(colors instanceof Array);\n",
    "alert(typeof pattern);\n",
    "alert(pattern instanceof RegExp);"
   ]
  },
  {
   "cell_type": "markdown",
   "metadata": {},
   "source": [
    "## 执行环境及作用域\n",
    "### 延长作用域链\n",
    "- try-catch\n",
    "- with\n",
    "\n",
    "### 没有块级作用域"
   ]
  },
  {
   "cell_type": "code",
   "execution_count": 12,
   "metadata": {
    "collapsed": false
   },
   "outputs": [
    {
     "name": "stdout",
     "output_type": "stream",
     "text": [
      "blue\n",
      "10\n"
     ]
    },
    {
     "data": {
      "text/plain": [
       "undefined"
      ]
     },
     "execution_count": 12,
     "metadata": {},
     "output_type": "execute_result"
    }
   ],
   "source": [
    "if (true) {\n",
    "    var color = \"blue\";\n",
    "}\n",
    "alert(color);\n",
    "\n",
    "function doSomething(i) {\n",
    "    ;\n",
    "}\n",
    "\n",
    "for (var i=0; i < 10; i++) {\n",
    "     doSomething(i);\n",
    "}\n",
    "alert(i);"
   ]
  },
  {
   "cell_type": "markdown",
   "metadata": {},
   "source": [
    "#### 1.声明变量\n",
    "使用var声明的变量会自动被添加到最接近的环境中。在函数内部，最接近的环境是函数的局部环境；在with语句中，最接近的环境是函数环境。如果初始化变量时没有使用var声明，该变量会自动被添加到全局变量。"
   ]
  },
  {
   "cell_type": "code",
   "execution_count": 13,
   "metadata": {
    "collapsed": false
   },
   "outputs": [
    {
     "ename": "ReferenceError",
     "evalue": "sum is not defined",
     "output_type": "error",
     "traceback": [
      "ReferenceError: sum is not defined",
      "    at evalmachine.<anonymous>:6:7",
      "    at ContextifyScript.Script.runInThisContext (vm.js:25:33)",
      "    at Object.exports.runInThisContext (vm.js:77:17)",
      "    at run ([eval]:608:19)",
      "    at onRunRequest ([eval]:379:22)",
      "    at onMessage ([eval]:347:17)",
      "    at emitTwo (events.js:106:13)",
      "    at process.emit (events.js:191:7)",
      "    at process.nextTick (internal/child_process.js:719:12)",
      "    at _combinedTickCallback (internal/process/next_tick.js:67:7)"
     ]
    }
   ],
   "source": [
    "function add(num1, num2) {\n",
    "    var sum = num1 + num2;\n",
    "    return sum;\n",
    "}\n",
    "var result = add(10, 20);\n",
    "alert(sum);"
   ]
  },
  {
   "cell_type": "code",
   "execution_count": 14,
   "metadata": {
    "collapsed": false
   },
   "outputs": [
    {
     "name": "stdout",
     "output_type": "stream",
     "text": [
      "30\n"
     ]
    },
    {
     "data": {
      "text/plain": [
       "undefined"
      ]
     },
     "execution_count": 14,
     "metadata": {},
     "output_type": "execute_result"
    }
   ],
   "source": [
    "function add(num1, num2) {\n",
    "    sum = num1 + num2;\n",
    "    return sum;\n",
    "}\n",
    "var result = add(10, 20);\n",
    "alert(sum);"
   ]
  },
  {
   "cell_type": "markdown",
   "metadata": {},
   "source": [
    "#### 2.查询标识符"
   ]
  },
  {
   "cell_type": "code",
   "execution_count": 15,
   "metadata": {
    "collapsed": false
   },
   "outputs": [
    {
     "name": "stdout",
     "output_type": "stream",
     "text": [
      "blue\n"
     ]
    },
    {
     "data": {
      "text/plain": [
       "undefined"
      ]
     },
     "execution_count": 15,
     "metadata": {},
     "output_type": "execute_result"
    }
   ],
   "source": [
    "var color = \"blue\";\n",
    "function getColor() {\n",
    "    return color;\n",
    "}\n",
    "alert(getColor());"
   ]
  },
  {
   "cell_type": "code",
   "execution_count": 16,
   "metadata": {
    "collapsed": false
   },
   "outputs": [
    {
     "name": "stdout",
     "output_type": "stream",
     "text": [
      "red\n"
     ]
    },
    {
     "data": {
      "text/plain": [
       "undefined"
      ]
     },
     "execution_count": 16,
     "metadata": {},
     "output_type": "execute_result"
    }
   ],
   "source": [
    "var color = \"blue\";\n",
    "function getColor() {\n",
    "    var color = \"red\";\n",
    "    return color;\n",
    "}\n",
    "alert(getColor());"
   ]
  },
  {
   "cell_type": "code",
   "execution_count": null,
   "metadata": {
    "collapsed": true
   },
   "outputs": [],
   "source": []
  }
 ],
 "metadata": {
  "anaconda-cloud": {},
  "kernelspec": {
   "display_name": "Javascript (Node.js)",
   "language": "javascript",
   "name": "javascript"
  },
  "language_info": {
   "file_extension": ".js",
   "mimetype": "application/javascript",
   "name": "javascript",
   "version": "6.3.1"
  }
 },
 "nbformat": 4,
 "nbformat_minor": 0
}
