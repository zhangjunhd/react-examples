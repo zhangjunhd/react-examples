{
 "cells": [
  {
   "cell_type": "markdown",
   "metadata": {},
   "source": [
    "# 5 引用类型\n",
    "\n",
    "- Object 类型\n",
    "- Array 类型\n",
    "- Date 类型\n",
    "- RegExp 类型\n",
    "- Function 类型\n",
    "- 基本包装类型\n",
    "- 单体内置对象\n",
    "\n",
    "## Object 类型"
   ]
  },
  {
   "cell_type": "code",
   "execution_count": 2,
   "metadata": {
    "collapsed": false
   },
   "outputs": [
    {
     "name": "stdout",
     "output_type": "stream",
     "text": [
      "Name:ZJ\n",
      "Age:29\n",
      "\n",
      "Name:onlyName\n",
      "\n",
      "ZJ\n",
      "ZJ\n"
     ]
    },
    {
     "data": {
      "text/plain": [
       "undefined"
      ]
     },
     "execution_count": 2,
     "metadata": {},
     "output_type": "execute_result"
    }
   ],
   "source": [
    "// golbal define function alert\n",
    "if((typeof alert) === 'undefined') {\n",
    "    global.alert = function(message) {\n",
    "        console.log(message);\n",
    "    }\n",
    "}\n",
    "\n",
    "var person = new Object()\n",
    "person.name = \"ZJ\";\n",
    "person.age = 29;\n",
    "\n",
    "// 对象字面量\n",
    "var person = {\n",
    "    \"name\": \"ZJ\",\n",
    "    age: 29\n",
    "};\n",
    "\n",
    "function displayInfo(args) {\n",
    "    var output = \"\";\n",
    "    \n",
    "    if(typeof args.name == \"string\") {\n",
    "        output += \"Name:\" + args.name + \"\\n\";\n",
    "    }\n",
    "    if(typeof args.age == \"number\") {\n",
    "        output += \"Age:\" + args.age + \"\\n\";\n",
    "    }\n",
    "    alert(output);\n",
    "}\n",
    "\n",
    "displayInfo({\n",
    "    name: \"ZJ\",\n",
    "    age: 29\n",
    "});\n",
    "displayInfo({\n",
    "    name: \"onlyName\"\n",
    "});\n",
    "\n",
    "alert(person[\"name\"]);\n",
    "alert(person.name);"
   ]
  },
  {
   "cell_type": "markdown",
   "metadata": {},
   "source": [
    "## Array类型"
   ]
  },
  {
   "cell_type": "code",
   "execution_count": 11,
   "metadata": {
    "collapsed": false
   },
   "outputs": [
    {
     "name": "stdout",
     "output_type": "stream",
     "text": [
      "red\n",
      "4\n",
      "0\n",
      "black\n",
      "undefined\n"
     ]
    },
    {
     "data": {
      "text/plain": [
       "undefined"
      ]
     },
     "execution_count": 11,
     "metadata": {},
     "output_type": "execute_result"
    }
   ],
   "source": [
    "var colors = new Array();\n",
    "var colors = new Array(3);\n",
    "var names = new Array(\"Greg\");\n",
    "\n",
    "var colors = Array(3);\n",
    "var names = Array(\"Greg\");\n",
    "\n",
    "var colors = [\"red\", \"blue\", \"green\"];\n",
    "var names = [];\n",
    "alert (colors[0]);\n",
    "colors[2] = \"black\"; // update\n",
    "colors[3] = \"brown\"; // append\n",
    "\n",
    "alert(colors.length);\n",
    "alert(names.length);\n",
    "alert(colors[2]);\n",
    "alert(colors[colors.length]);"
   ]
  },
  {
   "cell_type": "code",
   "execution_count": 13,
   "metadata": {
    "collapsed": false
   },
   "outputs": [
    {
     "data": {
      "text/plain": [
       "5"
      ]
     },
     "execution_count": 13,
     "metadata": {},
     "output_type": "execute_result"
    }
   ],
   "source": [
    "var colors = [\"red\", \"blue\", \"green\"];\n",
    "colors[colors.length] = \"black\"; // append\n",
    "colors[colors.length] = \"brown\"; // append\n",
    "colors.length"
   ]
  },
  {
   "cell_type": "code",
   "execution_count": 14,
   "metadata": {
    "collapsed": false
   },
   "outputs": [
    {
     "data": {
      "text/plain": [
       "100"
      ]
     },
     "execution_count": 14,
     "metadata": {},
     "output_type": "execute_result"
    }
   ],
   "source": [
    "var colors = [\"red\", \"blue\", \"green\"];\n",
    "colors[99] = \"black\"; // append\n",
    "colors.length"
   ]
  },
  {
   "cell_type": "markdown",
   "metadata": {},
   "source": [
    "### 检测数组\n",
    "```js\n",
    "if(Arrar.isArray(value)) {\n",
    "   //do something\n",
    "}\n",
    "```\n",
    "\n",
    "### 转换方法"
   ]
  },
  {
   "cell_type": "code",
   "execution_count": 16,
   "metadata": {
    "collapsed": false
   },
   "outputs": [
    {
     "name": "stdout",
     "output_type": "stream",
     "text": [
      "red,blue,green\n",
      "[ 'red', 'blue', 'green' ]\n",
      "[ 'red', 'blue', 'green' ]\n",
      "red,blue,green\n",
      "red||blue||green\n"
     ]
    },
    {
     "data": {
      "text/plain": [
       "undefined"
      ]
     },
     "execution_count": 16,
     "metadata": {},
     "output_type": "execute_result"
    }
   ],
   "source": [
    "var colors = [\"red\", \"blue\", \"green\"];\n",
    "alert(colors.toString());\n",
    "alert(colors.valueOf());\n",
    "alert(colors);\n",
    "alert(colors.join(\",\"));\n",
    "alert(colors.join(\"||\"));"
   ]
  },
  {
   "cell_type": "markdown",
   "metadata": {},
   "source": [
    "### 栈方法"
   ]
  },
  {
   "cell_type": "code",
   "execution_count": 17,
   "metadata": {
    "collapsed": false
   },
   "outputs": [
    {
     "name": "stdout",
     "output_type": "stream",
     "text": [
      "2\n",
      "3\n",
      "black\n",
      "2\n"
     ]
    },
    {
     "data": {
      "text/plain": [
       "undefined"
      ]
     },
     "execution_count": 17,
     "metadata": {},
     "output_type": "execute_result"
    }
   ],
   "source": [
    "var colors = new Array();\n",
    "var count = colors.push(\"red\", \"green\");\n",
    "alert(count);\n",
    "\n",
    "count = colors.push(\"black\");\n",
    "alert(count);\n",
    "\n",
    "var item = colors.pop(); //取得最后一项\n",
    "alert(item);\n",
    "alert(colors.length);"
   ]
  },
  {
   "cell_type": "markdown",
   "metadata": {
    "collapsed": true
   },
   "source": [
    "### 队列方法"
   ]
  },
  {
   "cell_type": "code",
   "execution_count": 3,
   "metadata": {
    "collapsed": false
   },
   "outputs": [
    {
     "name": "stdout",
     "output_type": "stream",
     "text": [
      "2\n",
      "3\n",
      "red\n",
      "2\n"
     ]
    },
    {
     "data": {
      "text/plain": [
       "undefined"
      ]
     },
     "execution_count": 3,
     "metadata": {},
     "output_type": "execute_result"
    }
   ],
   "source": [
    "var colors = new Array();\n",
    "var count = colors.push(\"red\", \"green\");\n",
    "alert(count);\n",
    "\n",
    "count = colors.push(\"black\");\n",
    "alert(count);\n",
    "\n",
    "var item = colors.shift(); //获取第一项\n",
    "alert(item);\n",
    "alert(colors.length);"
   ]
  },
  {
   "cell_type": "code",
   "execution_count": 4,
   "metadata": {
    "collapsed": false
   },
   "outputs": [
    {
     "name": "stdout",
     "output_type": "stream",
     "text": [
      "2\n",
      "3\n",
      "green\n",
      "2\n"
     ]
    },
    {
     "data": {
      "text/plain": [
       "undefined"
      ]
     },
     "execution_count": 4,
     "metadata": {},
     "output_type": "execute_result"
    }
   ],
   "source": [
    "var colors = new Array();\n",
    "var count = colors.unshift(\"red\", \"green\"); //推入两项\n",
    "alert(count);\n",
    "\n",
    "count = colors.unshift(\"black\");\n",
    "alert(count);\n",
    "\n",
    "var item = colors.pop();\n",
    "alert(item);\n",
    "alert(colors.length);"
   ]
  },
  {
   "cell_type": "markdown",
   "metadata": {},
   "source": [
    "### 重排序方法\n",
    "\n",
    "- reverse()反转数组项的顺序\n",
    "- sort()调用每个数组项的toString()，然后比较字符串"
   ]
  },
  {
   "cell_type": "code",
   "execution_count": 6,
   "metadata": {
    "collapsed": false
   },
   "outputs": [
    {
     "data": {
      "text/plain": [
       "[ 5, 4, 3, 2, 1 ]"
      ]
     },
     "execution_count": 6,
     "metadata": {},
     "output_type": "execute_result"
    }
   ],
   "source": [
    "var values = [1, 2, 3, 4, 5];\n",
    "values.reverse();\n",
    "values"
   ]
  },
  {
   "cell_type": "code",
   "execution_count": 7,
   "metadata": {
    "collapsed": false
   },
   "outputs": [
    {
     "data": {
      "text/plain": [
       "[ 0, 1, 10, 15, 5 ]"
      ]
     },
     "execution_count": 7,
     "metadata": {},
     "output_type": "execute_result"
    }
   ],
   "source": [
    "var values = [0, 1, 5, 10, 15];\n",
    "values.sort();\n",
    "values"
   ]
  },
  {
   "cell_type": "code",
   "execution_count": 8,
   "metadata": {
    "collapsed": false
   },
   "outputs": [
    {
     "data": {
      "text/plain": [
       "[ 0, 1, 5, 10, 15 ]"
      ]
     },
     "execution_count": 8,
     "metadata": {},
     "output_type": "execute_result"
    }
   ],
   "source": [
    "function compare(value1, value2) {\n",
    "    if(value1 < value2) {\n",
    "        return -1;\n",
    "    } else if(value1 > value2) {\n",
    "        return 1;\n",
    "    } else {\n",
    "        return 0;\n",
    "    }\n",
    "}\n",
    "\n",
    "var values = [0, 1, 5, 10, 15];\n",
    "values.sort(compare);\n",
    "values"
   ]
  },
  {
   "cell_type": "code",
   "execution_count": 9,
   "metadata": {
    "collapsed": false
   },
   "outputs": [
    {
     "data": {
      "text/plain": [
       "[ 15, 10, 5, 1, 0 ]"
      ]
     },
     "execution_count": 9,
     "metadata": {},
     "output_type": "execute_result"
    }
   ],
   "source": [
    "function reverseCompare(value1, value2) {\n",
    "    return compare(value1, value2) * -1;\n",
    "}\n",
    "\n",
    "var values = [0, 1, 5, 10, 15];\n",
    "values.sort(reverseCompare);\n",
    "values"
   ]
  },
  {
   "cell_type": "markdown",
   "metadata": {},
   "source": [
    "### 操作方法\n",
    "\n",
    "- concat()\n",
    "- slice()\n",
    "- splice()"
   ]
  },
  {
   "cell_type": "code",
   "execution_count": 10,
   "metadata": {
    "collapsed": false
   },
   "outputs": [
    {
     "name": "stdout",
     "output_type": "stream",
     "text": [
      "[ 'red', 'green', 'blue' ]\n",
      "[ 'red', 'green', 'blue', 'yellow', 'black', 'brown' ]\n"
     ]
    },
    {
     "data": {
      "text/plain": [
       "undefined"
      ]
     },
     "execution_count": 10,
     "metadata": {},
     "output_type": "execute_result"
    }
   ],
   "source": [
    "var colors = [\"red\", \"green\", \"blue\"];\n",
    "var colors2 = colors.concat(\"yellow\", [\"black\", \"brown\"]);\n",
    "alert(colors);\n",
    "alert(colors2);"
   ]
  },
  {
   "cell_type": "code",
   "execution_count": 11,
   "metadata": {
    "collapsed": false
   },
   "outputs": [
    {
     "name": "stdout",
     "output_type": "stream",
     "text": [
      "[ 'green', 'blue', 'yellow', 'purple' ]\n",
      "[ 'green', 'blue', 'yellow' ]\n"
     ]
    },
    {
     "data": {
      "text/plain": [
       "undefined"
      ]
     },
     "execution_count": 11,
     "metadata": {},
     "output_type": "execute_result"
    }
   ],
   "source": [
    "var colors = [\"red\", \"green\", \"blue\", \"yellow\", \"purple\"];\n",
    "var colors2 = colors.slice(1);\n",
    "var colors3 = colors.slice(1, 4);\n",
    "alert(colors2);\n",
    "alert(colors3);"
   ]
  },
  {
   "cell_type": "code",
   "execution_count": 12,
   "metadata": {
    "collapsed": false
   },
   "outputs": [
    {
     "name": "stdout",
     "output_type": "stream",
     "text": [
      "[ 'green', 'blue' ]\n",
      "[ 'red' ]\n",
      "[ 'green', 'yellow', 'orange', 'blue' ]\n",
      "[]\n",
      "[ 'green', 'red', 'purple', 'orange', 'blue' ]\n",
      "[ 'yellow' ]\n"
     ]
    },
    {
     "data": {
      "text/plain": [
       "undefined"
      ]
     },
     "execution_count": 12,
     "metadata": {},
     "output_type": "execute_result"
    }
   ],
   "source": [
    "var colors = [\"red\", \"green\", \"blue\"];\n",
    "var removed = colors.splice(0, 1); //删除第一项\n",
    "alert(colors);\n",
    "alert(removed);\n",
    "\n",
    "removed = colors.splice(1, 0, \"yellow\", \"orange\"); //从位置1开始插入两项\n",
    "alert(colors);\n",
    "alert(removed);\n",
    "\n",
    "removed = colors.splice(1, 1, \"red\", \"purple\"); //插入两项，删除1项\n",
    "alert(colors);\n",
    "alert(removed);"
   ]
  },
  {
   "cell_type": "markdown",
   "metadata": {},
   "source": [
    "### 位置方法\n",
    "- indexOf和lastIndexOf：两个参数，要查找的项和（可选）查找起点，找不到返回-1"
   ]
  },
  {
   "cell_type": "code",
   "execution_count": 13,
   "metadata": {
    "collapsed": false
   },
   "outputs": [
    {
     "name": "stdout",
     "output_type": "stream",
     "text": [
      "3\n",
      "5\n",
      "5\n",
      "3\n",
      "-1\n",
      "0\n"
     ]
    },
    {
     "data": {
      "text/plain": [
       "undefined"
      ]
     },
     "execution_count": 13,
     "metadata": {},
     "output_type": "execute_result"
    }
   ],
   "source": [
    "var numbers = [1,2,3,4,5,4,3,2,1];\n",
    "alert(numbers.indexOf(4));\n",
    "alert(numbers.lastIndexOf(4));\n",
    "\n",
    "alert(numbers.indexOf(4, 4));\n",
    "alert(numbers.lastIndexOf(4, 4));\n",
    "\n",
    "var person = {name: \"ZJ\"};\n",
    "var people = [{name: \"ZJ\"}];\n",
    "var morePeople = [person];\n",
    "\n",
    "alert(people.indexOf(person));\n",
    "alert(morePeople.indexOf(person));"
   ]
  },
  {
   "cell_type": "markdown",
   "metadata": {},
   "source": [
    "### 迭代方法\n",
    "\n",
    "- every()\n",
    "- filter()\n",
    "- forEach()\n",
    "- map()\n",
    "- some()"
   ]
  },
  {
   "cell_type": "code",
   "execution_count": 15,
   "metadata": {
    "collapsed": false
   },
   "outputs": [
    {
     "name": "stdout",
     "output_type": "stream",
     "text": [
      "false\n",
      "true\n",
      "[ 3, 4, 5, 4, 3 ]\n",
      "[ 2, 4, 6, 8, 10, 8, 6, 4, 2 ]\n",
      "1\n",
      "2\n",
      "3\n",
      "4\n",
      "5\n",
      "4\n",
      "3\n",
      "2\n",
      "1\n"
     ]
    },
    {
     "data": {
      "text/plain": [
       "undefined"
      ]
     },
     "execution_count": 15,
     "metadata": {},
     "output_type": "execute_result"
    }
   ],
   "source": [
    "var numbers = [1,2,3,4,5,4,3,2,1];\n",
    "var everyResult = numbers.every(function(item, index, array){\n",
    "    return (item > 2);\n",
    "});\n",
    "alert(everyResult);\n",
    "\n",
    "var someResult = numbers.some(function(item, index, array){\n",
    "    return (item > 2);\n",
    "});\n",
    "alert(someResult);\n",
    "\n",
    "var filterResult = numbers.filter(function(item, index, array){\n",
    "    return (item > 2);\n",
    "});\n",
    "alert(filterResult);\n",
    "\n",
    "var mapResult = numbers.map(function(item, index, array){\n",
    "    return item * 2;\n",
    "});\n",
    "alert(mapResult);\n",
    "\n",
    "numbers.forEach(function(item, index, array){\n",
    "    alert(item);\n",
    "});"
   ]
  },
  {
   "cell_type": "markdown",
   "metadata": {},
   "source": [
    "### 归并方法\n",
    "\n",
    "- reduce()\n",
    "- reduceRight()"
   ]
  },
  {
   "cell_type": "code",
   "execution_count": 16,
   "metadata": {
    "collapsed": false
   },
   "outputs": [
    {
     "name": "stdout",
     "output_type": "stream",
     "text": [
      "15\n",
      "15\n"
     ]
    },
    {
     "data": {
      "text/plain": [
       "undefined"
      ]
     },
     "execution_count": 16,
     "metadata": {},
     "output_type": "execute_result"
    }
   ],
   "source": [
    "var values = [1,2,3,4,5];\n",
    "var sum = values.reduce(function(prev, cur, index, array){ // prev=1, cur=2 ...\n",
    "    return prev + cur;\n",
    "});\n",
    "var sum2 = values.reduceRight(function(prev, cur, index, array){ // prev=5, cur=4 ...\n",
    "    return prev + cur;\n",
    "});\n",
    "alert(sum);\n",
    "alert(sum2);"
   ]
  },
  {
   "cell_type": "markdown",
   "metadata": {},
   "source": [
    "## Date类型"
   ]
  },
  {
   "cell_type": "code",
   "execution_count": 17,
   "metadata": {
    "collapsed": false
   },
   "outputs": [
    {
     "data": {
      "text/plain": [
       "2016-10-19T06:41:59.586Z"
      ]
     },
     "execution_count": 17,
     "metadata": {},
     "output_type": "execute_result"
    }
   ],
   "source": [
    "var now = new Date();\n",
    "now"
   ]
  },
  {
   "cell_type": "code",
   "execution_count": 18,
   "metadata": {
    "collapsed": false
   },
   "outputs": [
    {
     "data": {
      "text/plain": [
       "2004-05-24T16:00:00.000Z"
      ]
     },
     "execution_count": 18,
     "metadata": {},
     "output_type": "execute_result"
    }
   ],
   "source": [
    "var someDate = new Date(Date.parse(\"May 25, 2004\"));\n",
    "someDate"
   ]
  },
  {
   "cell_type": "code",
   "execution_count": 19,
   "metadata": {
    "collapsed": false
   },
   "outputs": [
    {
     "data": {
      "text/plain": [
       "2000-01-01T00:00:00.000Z"
      ]
     },
     "execution_count": 19,
     "metadata": {},
     "output_type": "execute_result"
    }
   ],
   "source": [
    "//GMT时间\n",
    "var y2k = new Date(Date.UTC(2000, 0));\n",
    "y2k"
   ]
  },
  {
   "cell_type": "code",
   "execution_count": 20,
   "metadata": {
    "collapsed": false
   },
   "outputs": [
    {
     "data": {
      "text/plain": [
       "2005-05-05T17:55:55.000Z"
      ]
     },
     "execution_count": 20,
     "metadata": {},
     "output_type": "execute_result"
    }
   ],
   "source": [
    "//GMT时间\n",
    "var allFives = new Date(Date.UTC(2005, 4, 5, 17, 55, 55));\n",
    "allFives"
   ]
  },
  {
   "cell_type": "code",
   "execution_count": 22,
   "metadata": {
    "collapsed": false
   },
   "outputs": [
    {
     "data": {
      "text/plain": [
       "1999-12-31T16:00:00.000Z"
      ]
     },
     "execution_count": 22,
     "metadata": {},
     "output_type": "execute_result"
    }
   ],
   "source": [
    "//本地时间\n",
    "var y2k = new Date(2000, 0);\n",
    "y2k"
   ]
  },
  {
   "cell_type": "code",
   "execution_count": 23,
   "metadata": {
    "collapsed": false
   },
   "outputs": [
    {
     "data": {
      "text/plain": [
       "2005-05-05T09:55:55.000Z"
      ]
     },
     "execution_count": 23,
     "metadata": {},
     "output_type": "execute_result"
    }
   ],
   "source": [
    "//本地时间\n",
    "var allFives = new Date(2005, 4, 5, 17, 55, 55);\n",
    "allFives"
   ]
  },
  {
   "cell_type": "code",
   "execution_count": 26,
   "metadata": {
    "collapsed": false
   },
   "outputs": [
    {
     "data": {
      "text/plain": [
       "0"
      ]
     },
     "execution_count": 26,
     "metadata": {},
     "output_type": "execute_result"
    }
   ],
   "source": [
    "//取得开始时间\n",
    "var start = Date.now();\n",
    "//调用函数\n",
    "// do something;\n",
    "//取得停止时间\n",
    "var stop = Date.now();\n",
    "result = stop - start\n",
    "result"
   ]
  },
  {
   "cell_type": "markdown",
   "metadata": {},
   "source": [
    "### 继承的方法"
   ]
  },
  {
   "cell_type": "code",
   "execution_count": 28,
   "metadata": {
    "collapsed": false
   },
   "outputs": [
    {
     "name": "stdout",
     "output_type": "stream",
     "text": [
      "Wed Oct 19 2016 14:52:54 GMT+0800 (CST)\n",
      "2016-10-19 14:52:54\n"
     ]
    },
    {
     "data": {
      "text/plain": [
       "undefined"
      ]
     },
     "execution_count": 28,
     "metadata": {},
     "output_type": "execute_result"
    }
   ],
   "source": [
    "var now = new Date();\n",
    "alert(now.toString());\n",
    "alert(now.toLocaleString())"
   ]
  },
  {
   "cell_type": "code",
   "execution_count": 29,
   "metadata": {
    "collapsed": false
   },
   "outputs": [
    {
     "data": {
      "text/plain": [
       "true"
      ]
     },
     "execution_count": 29,
     "metadata": {},
     "output_type": "execute_result"
    }
   ],
   "source": [
    "var date1 = new Date(2007, 0, 1);\n",
    "var date2 = new Date(2007, 1, 1);\n",
    "date1 < date2"
   ]
  },
  {
   "cell_type": "markdown",
   "metadata": {},
   "source": [
    "### 日期格式化方法\n",
    "p101\n",
    "\n",
    "### 日期/时间组件方法\n",
    "p102\n",
    "\n",
    "## RegExp类型\n",
    "```js\n",
    "var expression = / pattern / flags ;\n",
    "```\n",
    "\n",
    "flags：\n",
    "\n",
    "- g：全局模式\n",
    "- i：忽略大小写\n",
    "- m：多行模式\n",
    "\n",
    "### RegExp实例属性"
   ]
  },
  {
   "cell_type": "code",
   "execution_count": 42,
   "metadata": {
    "collapsed": false
   },
   "outputs": [
    {
     "name": "stdout",
     "output_type": "stream",
     "text": [
      "false\n",
      "true\n",
      "false\n",
      "0\n",
      "\\[bc\\]at\n",
      "false\n",
      "true\n",
      "false\n",
      "0\n",
      "\\[bc\\]at\n"
     ]
    },
    {
     "data": {
      "text/plain": [
       "undefined"
      ]
     },
     "execution_count": 42,
     "metadata": {},
     "output_type": "execute_result"
    }
   ],
   "source": [
    "var pattern1 = /\\[bc\\]at/i;\n",
    "        \n",
    "alert(pattern1.global);     //false\n",
    "alert(pattern1.ignoreCase); //true\n",
    "alert(pattern1.multiline);  //false\n",
    "alert(pattern1.lastIndex);  //0\n",
    "alert(pattern1.source);     //\"\\[bc\\]at\"\n",
    "\n",
    "var pattern2 = new RegExp(\"\\\\[bc\\\\]at\", \"i\");\n",
    "\n",
    "alert(pattern2.global);     //false\n",
    "alert(pattern2.ignoreCase); //true\n",
    "alert(pattern2.multiline);  //false\n",
    "alert(pattern2.lastIndex);  //0\n",
    "alert(pattern2.source);     //\"\\[bc\\]at\""
   ]
  },
  {
   "cell_type": "markdown",
   "metadata": {},
   "source": [
    "### RegExp实例方法\n",
    "exec()专门为捕获组而设计的。\n",
    "\n",
    "- index：匹配项在字符串中的位置\n",
    "- input：应用正则表达式的字符串\n",
    "- 在数组中\n",
    "    - 第一项是与整个模式匹配的字符串\n",
    "    - 其他项是与模式中的捕获组匹配的字符串（如果模式中没有捕获组，则该数组只包含一项）"
   ]
  },
  {
   "cell_type": "code",
   "execution_count": 36,
   "metadata": {
    "collapsed": false
   },
   "outputs": [
    {
     "name": "stdout",
     "output_type": "stream",
     "text": [
      "0\n",
      "mom and dad and baby\n",
      "mom and dad and baby\n",
      " and dad and baby\n",
      " and baby\n"
     ]
    },
    {
     "data": {
      "text/plain": [
       "undefined"
      ]
     },
     "execution_count": 36,
     "metadata": {},
     "output_type": "execute_result"
    }
   ],
   "source": [
    "var text = \"mom and dad and baby\";\n",
    "        \n",
    "var pattern = /mom( and dad( and baby)?)?/gi;\n",
    "var matches = pattern.exec(text);\n",
    "\n",
    "alert(matches.index);    //0\n",
    "alert(matches.input);    //\"mom and dad and baby\"\n",
    "alert(matches[0]);       //\"mom and dad and baby\"\n",
    "alert(matches[1]);       //\" and dad and baby\"\n",
    "alert(matches[2]);       //\" and baby\""
   ]
  },
  {
   "cell_type": "markdown",
   "metadata": {},
   "source": [
    "全局模式与非全局模式的区别："
   ]
  },
  {
   "cell_type": "code",
   "execution_count": 37,
   "metadata": {
    "collapsed": false
   },
   "outputs": [
    {
     "name": "stdout",
     "output_type": "stream",
     "text": [
      "0\n",
      "cat\n",
      "0\n",
      "0\n",
      "cat\n",
      "0\n",
      "0\n",
      "cat\n",
      "3\n",
      "5\n",
      "bat\n",
      "8\n"
     ]
    },
    {
     "data": {
      "text/plain": [
       "undefined"
      ]
     },
     "execution_count": 37,
     "metadata": {},
     "output_type": "execute_result"
    }
   ],
   "source": [
    "var text = \"cat, bat, sat, fat\";        \n",
    "var pattern1 = /.at/;\n",
    "\n",
    "var matches = pattern1.exec(text);        \n",
    "alert(matches.index);    //0\n",
    "alert(matches[0]);       //\"cat\"\n",
    "alert(pattern1.lastIndex);//0\n",
    "\n",
    "matches = pattern1.exec(text);        \n",
    "alert(matches.index);    //0\n",
    "alert(matches[0]);       //\"cat\"\n",
    "alert(pattern1.lastIndex);//0\n",
    "\n",
    "var pattern2 = /.at/g;\n",
    "\n",
    "var matches = pattern2.exec(text);        \n",
    "alert(matches.index);    //0\n",
    "alert(matches[0]);       //\"cat\"\n",
    "alert(pattern2.lastIndex);//3\n",
    "\n",
    "matches = pattern2.exec(text);        \n",
    "alert(matches.index);    //5\n",
    "alert(matches[0]);       //\"bat\"\n",
    "alert(pattern2.lastIndex);//8"
   ]
  },
  {
   "cell_type": "markdown",
   "metadata": {},
   "source": [
    "test():匹配返回true，否则返回false。"
   ]
  },
  {
   "cell_type": "code",
   "execution_count": 38,
   "metadata": {
    "collapsed": false
   },
   "outputs": [
    {
     "name": "stdout",
     "output_type": "stream",
     "text": [
      "The pattern was matched.\n"
     ]
    },
    {
     "data": {
      "text/plain": [
       "undefined"
      ]
     },
     "execution_count": 38,
     "metadata": {},
     "output_type": "execute_result"
    }
   ],
   "source": [
    "var text = \"cat, bat, sat, fat\";        \n",
    "var pattern = /.at/;\n",
    "\n",
    "if (pattern.test(text)){\n",
    "    alert(\"The pattern was matched.\");\n",
    "}"
   ]
  },
  {
   "cell_type": "markdown",
   "metadata": {},
   "source": [
    "### RegExp构造函数属性\n",
    "- input：最近一次要匹配的字符串\n",
    "- lastMatch：最近一次的匹配项\n",
    "- lastParen：最近一次匹配的捕获组\n",
    "- leftContext：input字符串中lastMatch之前的文本\n",
    "- multiline：布尔值，表示是否所有表达式都是多行模式\n",
    "- rightContext：input字符串中lastMatch之后的文本"
   ]
  },
  {
   "cell_type": "code",
   "execution_count": 39,
   "metadata": {
    "collapsed": false
   },
   "outputs": [
    {
     "name": "stdout",
     "output_type": "stream",
     "text": [
      "this has been a short summer\n",
      "this has been a \n",
      " summer\n",
      "short\n",
      "s\n",
      "undefined\n"
     ]
    },
    {
     "data": {
      "text/plain": [
       "undefined"
      ]
     },
     "execution_count": 39,
     "metadata": {},
     "output_type": "execute_result"
    }
   ],
   "source": [
    "var text = \"this has been a short summer\";\n",
    "var pattern = /(.)hort/g;\n",
    "\n",
    "/*\n",
    " * Note: Opera doesn't support input, lastMatch, lastParen, or multiline.\n",
    " * Internet Explorer doesn't support multiline.\n",
    " */        \n",
    "if (pattern.test(text)){\n",
    "    alert(RegExp.input);               //this has been a short summer\n",
    "    alert(RegExp.leftContext);         //this has been a            \n",
    "    alert(RegExp.rightContext);        // summer\n",
    "    alert(RegExp.lastMatch);           //short\n",
    "    alert(RegExp.lastParen);           //s\n",
    "    alert(RegExp.multiline);           //false\n",
    "}"
   ]
  },
  {
   "cell_type": "markdown",
   "metadata": {},
   "source": [
    "使用短属性名代替相应的长属性名："
   ]
  },
  {
   "cell_type": "code",
   "execution_count": 40,
   "metadata": {
    "collapsed": false
   },
   "outputs": [
    {
     "name": "stdout",
     "output_type": "stream",
     "text": [
      "this has been a short summer\n",
      "this has been a \n",
      " summer\n",
      "short\n",
      "s\n",
      "undefined\n"
     ]
    },
    {
     "data": {
      "text/plain": [
       "undefined"
      ]
     },
     "execution_count": 40,
     "metadata": {},
     "output_type": "execute_result"
    }
   ],
   "source": [
    "var text = \"this has been a short summer\";\n",
    "var pattern = /(.)hort/g;\n",
    "\n",
    "/*\n",
    " * Note: Opera doesn't support short property names.\n",
    " * Internet Explorer doesn't support multiline.\n",
    " */        \n",
    "if (pattern.test(text)){\n",
    "    alert(RegExp.$_);               //this has been a short summer\n",
    "    alert(RegExp[\"$`\"]);            //this has been a            \n",
    "    alert(RegExp[\"$'\"]);            // summer\n",
    "    alert(RegExp[\"$&\"]);            //short\n",
    "    alert(RegExp[\"$+\"]);            //s\n",
    "    alert(RegExp[\"$*\"]);            //false\n",
    "}"
   ]
  },
  {
   "cell_type": "markdown",
   "metadata": {},
   "source": [
    "9个用于存储捕获组的构造函数属性。访问这些属性的语法是RegExp.$1,RegExp.$2,...,RegExp.$9，分别用于存储第一、第二...第九个匹配的捕获组。"
   ]
  },
  {
   "cell_type": "code",
   "execution_count": 41,
   "metadata": {
    "collapsed": false
   },
   "outputs": [
    {
     "name": "stdout",
     "output_type": "stream",
     "text": [
      "sh\n",
      "t\n"
     ]
    },
    {
     "data": {
      "text/plain": [
       "undefined"
      ]
     },
     "execution_count": 41,
     "metadata": {},
     "output_type": "execute_result"
    }
   ],
   "source": [
    "var text = \"this has been a short summer\";\n",
    "var pattern = /(..)or(.)/g;\n",
    "\n",
    "if (pattern.test(text)){\n",
    "    alert(RegExp.$1);       //sh\n",
    "    alert(RegExp.$2);       //t\n",
    "}"
   ]
  },
  {
   "cell_type": "markdown",
   "metadata": {},
   "source": [
    "## Function类型\n",
    "函数名仅仅是指向函数的指针。"
   ]
  },
  {
   "cell_type": "code",
   "execution_count": 43,
   "metadata": {
    "collapsed": false
   },
   "outputs": [
    {
     "name": "stdout",
     "output_type": "stream",
     "text": [
      "20\n",
      "20\n",
      "20\n"
     ]
    },
    {
     "data": {
      "text/plain": [
       "undefined"
      ]
     },
     "execution_count": 43,
     "metadata": {},
     "output_type": "execute_result"
    }
   ],
   "source": [
    "function sum(num1, num2){\n",
    "    return num1 + num2;\n",
    "}        \n",
    "alert(sum(10,10));    //20\n",
    "\n",
    "var anotherSum = sum;        \n",
    "alert(anotherSum(10,10));  //20\n",
    "\n",
    "sum = null;        \n",
    "alert(anotherSum(10,10));  //20"
   ]
  },
  {
   "cell_type": "markdown",
   "metadata": {},
   "source": [
    "### 函数声明与函数表达式\n",
    "以下代码可以执行，因为在代码开始执行之前，解析器就已经通过一个名为函数声明提升(function declaration hoisting)的过程，读取并将函数声明添加到执行环境中。"
   ]
  },
  {
   "cell_type": "code",
   "execution_count": 44,
   "metadata": {
    "collapsed": false
   },
   "outputs": [
    {
     "name": "stdout",
     "output_type": "stream",
     "text": [
      "20\n"
     ]
    },
    {
     "data": {
      "text/plain": [
       "undefined"
      ]
     },
     "execution_count": 44,
     "metadata": {},
     "output_type": "execute_result"
    }
   ],
   "source": [
    "alert(sum(10,10));    //20\n",
    "\n",
    "function sum(num1, num2){\n",
    "    return num1 + num2;\n",
    "}"
   ]
  },
  {
   "cell_type": "markdown",
   "metadata": {},
   "source": [
    "以下代码会执行错误，原因是函数位于一个初始化语句中，而不是一个函数声明。"
   ]
  },
  {
   "cell_type": "code",
   "execution_count": 45,
   "metadata": {
    "collapsed": false
   },
   "outputs": [
    {
     "name": "stdout",
     "output_type": "stream",
     "text": [
      "20\n"
     ]
    },
    {
     "data": {
      "text/plain": [
       "undefined"
      ]
     },
     "execution_count": 45,
     "metadata": {},
     "output_type": "execute_result"
    }
   ],
   "source": [
    "alert(sum(10,10));    //causes an error\n",
    "\n",
    "var sum = function(num1, num2){\n",
    "    return num1 + num2;\n",
    "};"
   ]
  },
  {
   "cell_type": "markdown",
   "metadata": {},
   "source": [
    "### 作为值的函数\n",
    "- 函数作为函数参数传递\n",
    "- 从一个函数中返回另一个函数（函数嵌套）"
   ]
  },
  {
   "cell_type": "code",
   "execution_count": 46,
   "metadata": {
    "collapsed": false
   },
   "outputs": [
    {
     "name": "stdout",
     "output_type": "stream",
     "text": [
      "20\n",
      "Hello, Nicholas\n"
     ]
    },
    {
     "data": {
      "text/plain": [
       "undefined"
      ]
     },
     "execution_count": 46,
     "metadata": {},
     "output_type": "execute_result"
    }
   ],
   "source": [
    "function callSomeFunction(someFunction, someArgument){\n",
    "    return someFunction(someArgument);\n",
    "}\n",
    "\n",
    "function add10(num){\n",
    "    return num + 10;\n",
    "}\n",
    "\n",
    "var result1 = callSomeFunction(add10, 10);\n",
    "alert(result1);   //20\n",
    "\n",
    "function getGreeting(name){\n",
    "    return \"Hello, \" + name;\n",
    "}\n",
    "\n",
    "var result2 = callSomeFunction(getGreeting, \"Nicholas\");\n",
    "alert(result2);   //Hello, Nicholas"
   ]
  },
  {
   "cell_type": "code",
   "execution_count": 47,
   "metadata": {
    "collapsed": false
   },
   "outputs": [
    {
     "name": "stdout",
     "output_type": "stream",
     "text": [
      "Nicholas\n",
      "Zachary\n"
     ]
    },
    {
     "data": {
      "text/plain": [
       "undefined"
      ]
     },
     "execution_count": 47,
     "metadata": {},
     "output_type": "execute_result"
    }
   ],
   "source": [
    "function createComparisonFunction(propertyName) {\n",
    "        \n",
    "    return function(object1, object2){\n",
    "        var value1 = object1[propertyName];\n",
    "        var value2 = object2[propertyName];\n",
    "\n",
    "        if (value1 < value2){\n",
    "            return -1;\n",
    "        } else if (value1 > value2){\n",
    "            return 1;\n",
    "        } else {\n",
    "            return 0;\n",
    "        }\n",
    "    };\n",
    "}\n",
    "\n",
    "var data = [{name: \"Zachary\", age: 28}, {name: \"Nicholas\", age: 29}];\n",
    "\n",
    "data.sort(createComparisonFunction(\"name\"));\n",
    "alert(data[0].name);  //Nicholas\n",
    "\n",
    "data.sort(createComparisonFunction(\"age\"));\n",
    "alert(data[0].name);  //Zachary"
   ]
  },
  {
   "cell_type": "markdown",
   "metadata": {},
   "source": [
    "### 函数内部属性\n",
    "在函数内部有两个特殊对象：\n",
    "- arguments：一个类数组对象，包含传入函数的所有参数。还有一个属性叫callee，是一个指针，指向拥有这个arguments对象的函数。\n",
    "- this：引用的是函数执行的环境对象。\n",
    "\n",
    "ECMAScript5规范化了另一个函数对象的属性：caller。这个属性保存着调用当前函数的函数的引用，如果是在全局作用域中调用当前函数，它的值为null。"
   ]
  },
  {
   "cell_type": "code",
   "execution_count": 48,
   "metadata": {
    "collapsed": false
   },
   "outputs": [
    {
     "name": "stdout",
     "output_type": "stream",
     "text": [
      "120\n",
      "0\n"
     ]
    },
    {
     "data": {
      "text/plain": [
       "undefined"
      ]
     },
     "execution_count": 48,
     "metadata": {},
     "output_type": "execute_result"
    }
   ],
   "source": [
    "function factorial(num){\n",
    "    if (num <= 1) {\n",
    "        return 1;\n",
    "    } else {\n",
    "        return num * arguments.callee(num-1)\n",
    "    }\n",
    "}\n",
    "\n",
    "var trueFactorial = factorial; //保存factorial函数指针\n",
    "\n",
    "factorial = function(){\n",
    "    return 0;\n",
    "};\n",
    "\n",
    "alert(trueFactorial(5));   //120\n",
    "alert(factorial(5));       //0"
   ]
  },
  {
   "cell_type": "code",
   "execution_count": 50,
   "metadata": {
    "collapsed": false
   },
   "outputs": [
    {
     "name": "stdout",
     "output_type": "stream",
     "text": [
      "red\n",
      "blue\n"
     ]
    },
    {
     "data": {
      "text/plain": [
       "undefined"
      ]
     },
     "execution_count": 50,
     "metadata": {},
     "output_type": "execute_result"
    }
   ],
   "source": [
    "color = \"red\";\n",
    "var o = { color: \"blue\" };\n",
    "\n",
    "function sayColor(){\n",
    "    alert(this.color);\n",
    "}\n",
    "\n",
    "sayColor();     //red\n",
    "\n",
    "o.sayColor = sayColor;\n",
    "o.sayColor();   //blue"
   ]
  },
  {
   "cell_type": "code",
   "execution_count": 51,
   "metadata": {
    "collapsed": false
   },
   "outputs": [
    {
     "name": "stdout",
     "output_type": "stream",
     "text": [
      "[Function: outer]\n"
     ]
    },
    {
     "data": {
      "text/plain": [
       "undefined"
      ]
     },
     "execution_count": 51,
     "metadata": {},
     "output_type": "execute_result"
    }
   ],
   "source": [
    "function outer(){\n",
    "    inner();\n",
    "}\n",
    "\n",
    "function inner(){\n",
    "    alert(inner.caller);\n",
    "}\n",
    "\n",
    "outer();"
   ]
  },
  {
   "cell_type": "code",
   "execution_count": 52,
   "metadata": {
    "collapsed": false
   },
   "outputs": [
    {
     "name": "stdout",
     "output_type": "stream",
     "text": [
      "[Function: outer]\n"
     ]
    },
    {
     "data": {
      "text/plain": [
       "undefined"
      ]
     },
     "execution_count": 52,
     "metadata": {},
     "output_type": "execute_result"
    }
   ],
   "source": [
    "function outer(){\n",
    "    inner();\n",
    "}\n",
    "\n",
    "function inner(){\n",
    "    alert(arguments.callee.caller); //更松散的耦合\n",
    "}\n",
    "\n",
    "outer();"
   ]
  },
  {
   "cell_type": "markdown",
   "metadata": {},
   "source": [
    "### 函数属性和方法\n",
    "- length：表示函数希望接收的命名参数的个数。\n",
    "- apply()：接收两个参数，一个是在其中运行函数的作用域，另一个是参数数组。\n",
    "- call()：与apply()方法的作用相同，区别仅在于接收参数的方式不同。\n",
    "- bind()：这个方法会创建一个函数的实例，其this值会被绑定到传给bind()函数的值。"
   ]
  },
  {
   "cell_type": "code",
   "execution_count": 53,
   "metadata": {
    "collapsed": false
   },
   "outputs": [
    {
     "name": "stdout",
     "output_type": "stream",
     "text": [
      "1\n",
      "2\n",
      "0\n"
     ]
    },
    {
     "data": {
      "text/plain": [
       "undefined"
      ]
     },
     "execution_count": 53,
     "metadata": {},
     "output_type": "execute_result"
    }
   ],
   "source": [
    "function sayName(name){\n",
    "    alert(name);\n",
    "}      \n",
    "\n",
    "function sum(num1, num2){\n",
    "    return num1 + num2;\n",
    "}\n",
    "\n",
    "function sayHi(){\n",
    "    alert(\"hi\");\n",
    "}\n",
    "\n",
    "alert(sayName.length);  //1\n",
    "alert(sum.length);      //2\n",
    "alert(sayHi.length);    //0"
   ]
  },
  {
   "cell_type": "code",
   "execution_count": 54,
   "metadata": {
    "collapsed": false
   },
   "outputs": [
    {
     "name": "stdout",
     "output_type": "stream",
     "text": [
      "20\n",
      "20\n"
     ]
    },
    {
     "data": {
      "text/plain": [
       "undefined"
      ]
     },
     "execution_count": 54,
     "metadata": {},
     "output_type": "execute_result"
    }
   ],
   "source": [
    "function sum(num1, num2){\n",
    "    return num1 + num2;\n",
    "}\n",
    "\n",
    "function callSum1(num1, num2){\n",
    "    return sum.apply(this, arguments);\n",
    "}\n",
    "\n",
    "function callSum2(num1, num2){\n",
    "    return sum.apply(this, [num1, num2]);\n",
    "}\n",
    "\n",
    "alert(callSum1(10,10));   //20\n",
    "alert(callSum2(10,10));   //20"
   ]
  },
  {
   "cell_type": "code",
   "execution_count": 55,
   "metadata": {
    "collapsed": false
   },
   "outputs": [
    {
     "name": "stdout",
     "output_type": "stream",
     "text": [
      "20\n"
     ]
    },
    {
     "data": {
      "text/plain": [
       "undefined"
      ]
     },
     "execution_count": 55,
     "metadata": {},
     "output_type": "execute_result"
    }
   ],
   "source": [
    "function sum(num1, num2){\n",
    "    return num1 + num2;\n",
    "}\n",
    "\n",
    "function callSum(num1, num2){\n",
    "    return sum.call(this, num1, num2);\n",
    "}\n",
    "\n",
    "alert(callSum(10,10));   //20"
   ]
  },
  {
   "cell_type": "markdown",
   "metadata": {},
   "source": [
    "使用call()或apply()来扩充作用域的最大好处，就是对象不需要与方法有任何耦合关系："
   ]
  },
  {
   "cell_type": "code",
   "execution_count": 57,
   "metadata": {
    "collapsed": false
   },
   "outputs": [
    {
     "name": "stdout",
     "output_type": "stream",
     "text": [
      "red\n",
      "red\n",
      "red\n",
      "blue\n"
     ]
    },
    {
     "data": {
      "text/plain": [
       "undefined"
      ]
     },
     "execution_count": 57,
     "metadata": {},
     "output_type": "execute_result"
    }
   ],
   "source": [
    "color = \"red\";\n",
    "var o = { color: \"blue\" };\n",
    "\n",
    "function sayColor(){\n",
    "    alert(this.color);\n",
    "}\n",
    "\n",
    "sayColor();            //red\n",
    "\n",
    "sayColor.call(this);   //red\n",
    "sayColor.call();       //red\n",
    "sayColor.call(o);      //blue"
   ]
  },
  {
   "cell_type": "code",
   "execution_count": 58,
   "metadata": {
    "collapsed": false
   },
   "outputs": [
    {
     "name": "stdout",
     "output_type": "stream",
     "text": [
      "blue\n"
     ]
    },
    {
     "data": {
      "text/plain": [
       "undefined"
      ]
     },
     "execution_count": 58,
     "metadata": {},
     "output_type": "execute_result"
    }
   ],
   "source": [
    "color = \"red\";\n",
    "var o = { color: \"blue\" };\n",
    "\n",
    "function sayColor(){\n",
    "    alert(this.color);\n",
    "}\n",
    "var objectSayColor = sayColor.bind(o);\n",
    "objectSayColor();   //blue"
   ]
  },
  {
   "cell_type": "markdown",
   "metadata": {},
   "source": [
    "## 基本包装类型\n",
    "### Boolean类型"
   ]
  },
  {
   "cell_type": "code",
   "execution_count": 59,
   "metadata": {
    "collapsed": false
   },
   "outputs": [
    {
     "name": "stdout",
     "output_type": "stream",
     "text": [
      "true\n",
      "false\n",
      "object\n",
      "boolean\n",
      "true\n",
      "false\n"
     ]
    },
    {
     "data": {
      "text/plain": [
       "undefined"
      ]
     },
     "execution_count": 59,
     "metadata": {},
     "output_type": "execute_result"
    }
   ],
   "source": [
    "var falseObject = new Boolean(false); //布尔表达式中所有对象都会被转换为true\n",
    "var result = falseObject && true;\n",
    "alert(result);  //true\n",
    "\n",
    "var falseValue = false;\n",
    "result = falseValue && true;\n",
    "alert(result);  //false\n",
    "\n",
    "alert(typeof falseObject);   //object\n",
    "alert(typeof falseValue);    //boolean\n",
    "alert(falseObject instanceof Boolean);  //true\n",
    "alert(falseValue instanceof Boolean);   //false"
   ]
  },
  {
   "cell_type": "markdown",
   "metadata": {},
   "source": [
    "### Number类型"
   ]
  },
  {
   "cell_type": "code",
   "execution_count": 60,
   "metadata": {
    "collapsed": false
   },
   "outputs": [
    {
     "name": "stdout",
     "output_type": "stream",
     "text": [
      "10\n",
      "1010\n",
      "12\n",
      "10\n",
      "a\n",
      "10.00\n",
      "1e+2\n",
      "99\n",
      "99.0\n",
      "object\n",
      "number\n",
      "true\n",
      "false\n"
     ]
    },
    {
     "data": {
      "text/plain": [
       "undefined"
      ]
     },
     "execution_count": 60,
     "metadata": {},
     "output_type": "execute_result"
    }
   ],
   "source": [
    "var numberObject = new Number(10);\n",
    "var numberValue = 99;\n",
    "\n",
    "//toString() using a radix\n",
    "alert(numberObject.toString());       //\"10\"\n",
    "alert(numberObject.toString(2));      //\"1010\"\n",
    "alert(numberObject.toString(8));      //\"12\"\n",
    "alert(numberObject.toString(10));     //\"10\"\n",
    "alert(numberObject.toString(16));     //\"a\"\n",
    "\n",
    "//toFixed()\n",
    "alert(numberObject.toFixed(2));    //outputs \"10.00\"\n",
    "\n",
    "numberObject = new Number(99);\n",
    "alert(numberObject.toPrecision(1));    //\"1e+2\"\n",
    "alert(numberObject.toPrecision(2));    //\"99\"\n",
    "alert(numberObject.toPrecision(3));    //\"99.0\"\n",
    "\n",
    "alert(typeof numberObject);   //object\n",
    "alert(typeof numberValue);    //number\n",
    "alert(numberObject instanceof Number);  //true\n",
    "alert(numberValue instanceof Number);   //false"
   ]
  },
  {
   "cell_type": "markdown",
   "metadata": {},
   "source": [
    "### String类型"
   ]
  },
  {
   "cell_type": "code",
   "execution_count": 61,
   "metadata": {
    "collapsed": false
   },
   "outputs": [
    {
     "name": "stdout",
     "output_type": "stream",
     "text": [
      "object\n",
      "string\n",
      "true\n",
      "false\n"
     ]
    },
    {
     "data": {
      "text/plain": [
       "undefined"
      ]
     },
     "execution_count": 61,
     "metadata": {},
     "output_type": "execute_result"
    }
   ],
   "source": [
    "var stringObject = new String(\"hello world\");\n",
    "var stringValue = \"hello world\";\n",
    "\n",
    "alert(typeof stringObject);   //\"object\"\n",
    "alert(typeof stringValue);    //\"string\"\n",
    "alert(stringObject instanceof String);  //true\n",
    "alert(stringValue instanceof String);   //false"
   ]
  },
  {
   "cell_type": "code",
   "execution_count": 62,
   "metadata": {
    "collapsed": false
   },
   "outputs": [
    {
     "name": "stdout",
     "output_type": "stream",
     "text": [
      "lo world\n",
      "lo world\n",
      "lo world\n",
      "lo w\n",
      "lo w\n",
      "lo worl\n",
      "rld\n",
      "hello world\n",
      "rld\n",
      "lo w\n",
      "hel\n",
      "\n"
     ]
    },
    {
     "data": {
      "text/plain": [
       "undefined"
      ]
     },
     "execution_count": 62,
     "metadata": {},
     "output_type": "execute_result"
    }
   ],
   "source": [
    "var stringValue = \"hello world\";\n",
    "alert(stringValue.slice(3));        //\"lo world\"\n",
    "alert(stringValue.substring(3));    //\"lo world\"\n",
    "alert(stringValue.substr(3));       //\"lo world\"\n",
    "alert(stringValue.slice(3, 7));     //\"lo w\"\n",
    "alert(stringValue.substring(3,7));  //\"lo w\"\n",
    "alert(stringValue.substr(3, 7));    //\"lo worl\"\n",
    "\n",
    "alert(stringValue.slice(-3));         //\"rld\"\n",
    "alert(stringValue.substring(-3));     //\"hello world\"\n",
    "alert(stringValue.substr(-3));        //\"rld\"\n",
    "alert(stringValue.slice(3, -4));      //\"lo w\"\n",
    "alert(stringValue.substring(3, -4));  //\"hel\"\n",
    "alert(stringValue.substr(3, -4));     //\"\" (empty string)"
   ]
  },
  {
   "cell_type": "code",
   "execution_count": 63,
   "metadata": {
    "collapsed": false
   },
   "outputs": [
    {
     "name": "stdout",
     "output_type": "stream",
     "text": [
      "4\n",
      "7\n",
      "7\n",
      "4\n"
     ]
    },
    {
     "data": {
      "text/plain": [
       "undefined"
      ]
     },
     "execution_count": 63,
     "metadata": {},
     "output_type": "execute_result"
    }
   ],
   "source": [
    "var stringValue = \"hello world\";\n",
    "alert(stringValue.indexOf(\"o\"));         //4\n",
    "alert(stringValue.lastIndexOf(\"o\"));     //7\n",
    "alert(stringValue.indexOf(\"o\", 6));         //7\n",
    "alert(stringValue.lastIndexOf(\"o\", 6));     //4   "
   ]
  },
  {
   "cell_type": "code",
   "execution_count": 64,
   "metadata": {
    "collapsed": false
   },
   "outputs": [
    {
     "name": "stdout",
     "output_type": "stream",
     "text": [
      "[ 3, 24, 32, 35, 52 ]\n"
     ]
    },
    {
     "data": {
      "text/plain": [
       "undefined"
      ]
     },
     "execution_count": 64,
     "metadata": {},
     "output_type": "execute_result"
    }
   ],
   "source": [
    "var stringValue = \"Lorem ipsum dolor sit amet, consectetur adipisicing elit\";\n",
    "var positions = new Array();\n",
    "var pos = stringValue.indexOf(\"e\");\n",
    "\n",
    "while(pos > -1){\n",
    "    positions.push(pos);\n",
    "    pos = stringValue.indexOf(\"e\", pos + 1);\n",
    "}\n",
    "\n",
    "alert(positions);    //\"3,24,32,35,52\""
   ]
  },
  {
   "cell_type": "code",
   "execution_count": 65,
   "metadata": {
    "collapsed": false
   },
   "outputs": [
    {
     "name": "stdout",
     "output_type": "stream",
     "text": [
      "HELLO WORLD\n",
      "HELLO WORLD\n",
      "hello world\n",
      "hello world\n"
     ]
    },
    {
     "data": {
      "text/plain": [
       "undefined"
      ]
     },
     "execution_count": 65,
     "metadata": {},
     "output_type": "execute_result"
    }
   ],
   "source": [
    "var stringValue = \"hello world\";\n",
    "alert(stringValue.toLocaleUpperCase());  //\"HELLO WORLD\"\n",
    "alert(stringValue.toUpperCase());        //\"HELLO WORLD\"\n",
    "alert(stringValue.toLocaleLowerCase());  //\"hello world\"\n",
    "alert(stringValue.toLowerCase());        //\"hello world\""
   ]
  },
  {
   "cell_type": "code",
   "execution_count": 66,
   "metadata": {
    "collapsed": false
   },
   "outputs": [
    {
     "name": "stdout",
     "output_type": "stream",
     "text": [
      "0\n",
      "cat\n",
      "0\n",
      "1\n",
      "cond, bat, sat, fat\n",
      "cond, bond, sond, fond\n",
      "word (cat), word (bat), word (sat), word (fat)\n",
      "&lt;p class=&quot;greeting&quot;&gt;Hello world!&lt;/p&gt;\n"
     ]
    },
    {
     "data": {
      "text/plain": [
       "undefined"
      ]
     },
     "execution_count": 66,
     "metadata": {},
     "output_type": "execute_result"
    }
   ],
   "source": [
    "var text = \"cat, bat, sat, fat\"; \n",
    "var pattern = /.at/;\n",
    "\n",
    "var matches = text.match(pattern);        \n",
    "alert(matches.index);        //0\n",
    "alert(matches[0]);           //\"cat\"\n",
    "alert(pattern.lastIndex);    //0\n",
    "\n",
    "var pos = text.search(/at/);\n",
    "alert(pos);   //1\n",
    "\n",
    "var result = text.replace(\"at\", \"ond\");\n",
    "alert(result);    //\"cond, bat, sat, fat\"\n",
    "\n",
    "result = text.replace(/at/g, \"ond\");\n",
    "alert(result);    //\"cond, bond, sond, fond\"\n",
    "\n",
    "result = text.replace(/(.at)/g, \"word ($1)\");\n",
    "alert(result);    //word (cat), word (bat), word (sat), word (fat)\n",
    "\n",
    "function htmlEscape(text){\n",
    "    return text.replace(/[<>\"&]/g, function(match, pos, originalText){\n",
    "        switch(match){\n",
    "            case \"<\":\n",
    "                return \"&lt;\";\n",
    "            case \">\":\n",
    "                return \"&gt;\";\n",
    "            case \"&\":\n",
    "                return \"&amp;\";\n",
    "            case \"\\\"\":\n",
    "                return \"&quot;\";\n",
    "        }             \n",
    "    });\n",
    "}\n",
    "\n",
    "alert(htmlEscape(\"<p class=\\\"greeting\\\">Hello world!</p>\")); //&lt;p class=&quot;greeting&quot;&gt;Hello world!&lt;/p&gt;\n",
    "\n",
    "var colorText = \"red,blue,green,yellow\";\n",
    "var colors1 = colorText.split(\",\");      //[\"red\", \"blue\", \"green\", \"yellow\"]\n",
    "var colors2 = colorText.split(\",\", 2);   //[\"red\", \"blue\"]\n",
    "var colors3 = colorText.split(/[^\\,]+/); //[\"\", \",\", \",\", \",\", \"\"]"
   ]
  },
  {
   "cell_type": "code",
   "execution_count": 67,
   "metadata": {
    "collapsed": false
   },
   "outputs": [
    {
     "name": "stdout",
     "output_type": "stream",
     "text": [
      "1\n",
      "0\n",
      "-1\n",
      "The string 'yellow' comes after the string 'brick'.\n",
      "The string 'yellow' is equal to the string 'yellow'.\n",
      "The string 'yellow' comes before the string 'zoo'.\n"
     ]
    },
    {
     "data": {
      "text/plain": [
       "undefined"
      ]
     },
     "execution_count": 67,
     "metadata": {},
     "output_type": "execute_result"
    }
   ],
   "source": [
    "var stringValue = \"yellow\";       \n",
    "alert(stringValue.localeCompare(\"brick\"));  //1\n",
    "alert(stringValue.localeCompare(\"yellow\")); //0\n",
    "alert(stringValue.localeCompare(\"zoo\"));    //-1\n",
    "\n",
    "//preferred technique for using localeCompare()\n",
    "function determineOrder(value) {\n",
    "    var result = stringValue.localeCompare(value);\n",
    "    if (result < 0){\n",
    "        alert(\"The string 'yellow' comes before the string '\" + value + \"'.\");\n",
    "    } else if (result > 0) {\n",
    "        alert(\"The string 'yellow' comes after the string '\" + value + \"'.\");\n",
    "    } else {\n",
    "        alert(\"The string 'yellow' is equal to the string '\" + value + \"'.\");\n",
    "    }\n",
    "}\n",
    "\n",
    "determineOrder(\"brick\");\n",
    "determineOrder(\"yellow\");\n",
    "determineOrder(\"zoo\");"
   ]
  },
  {
   "cell_type": "code",
   "execution_count": 68,
   "metadata": {
    "collapsed": false
   },
   "outputs": [
    {
     "name": "stdout",
     "output_type": "stream",
     "text": [
      "hello\n"
     ]
    },
    {
     "data": {
      "text/plain": [
       "undefined"
      ]
     },
     "execution_count": 68,
     "metadata": {},
     "output_type": "execute_result"
    }
   ],
   "source": [
    "alert(String.fromCharCode(104, 101, 108, 108, 111)); //\"hello\""
   ]
  },
  {
   "cell_type": "markdown",
   "metadata": {},
   "source": [
    "## 单体内置对象\n",
    "### Global对象\n",
    "#### URI编码方法"
   ]
  },
  {
   "cell_type": "code",
   "execution_count": 69,
   "metadata": {
    "collapsed": false
   },
   "outputs": [
    {
     "name": "stdout",
     "output_type": "stream",
     "text": [
      "http://www.wrox.com/illegal%20value.htm#start\n",
      "http%3A%2F%2Fwww.wrox.com%2Fillegal%20value.htm%23start\n"
     ]
    },
    {
     "data": {
      "text/plain": [
       "undefined"
      ]
     },
     "execution_count": 69,
     "metadata": {},
     "output_type": "execute_result"
    }
   ],
   "source": [
    "var uri = \"http://www.wrox.com/illegal value.htm#start\";\n",
    "        \n",
    "//\"http://www.wrox.com/illegal%20value.htm#start\"\n",
    "alert(encodeURI(uri));\n",
    "\n",
    "//\"http%3A%2F%2Fwww.wrox.com%2Fillegal%20value.htm%23start\"\n",
    "alert(encodeURIComponent(uri));"
   ]
  },
  {
   "cell_type": "code",
   "execution_count": 70,
   "metadata": {
    "collapsed": false
   },
   "outputs": [
    {
     "name": "stdout",
     "output_type": "stream",
     "text": [
      "http%3A%2F%2Fwww.wrox.com%2Fillegal value.htm%23start\n",
      "http://www.wrox.com/illegal value.htm#start\n"
     ]
    },
    {
     "data": {
      "text/plain": [
       "undefined"
      ]
     },
     "execution_count": 70,
     "metadata": {},
     "output_type": "execute_result"
    }
   ],
   "source": [
    "var uri = \"http%3A%2F%2Fwww.wrox.com%2Fillegal%20value.htm%23start\";\n",
    "        \n",
    "//http%3A%2F%2Fwww.wrox.com%2Fillegal value.htm%23start\n",
    "alert(decodeURI(uri));\n",
    "\n",
    "//http://www.wrox.com/illegal value.htm#start\n",
    "alert(decodeURIComponent(uri));"
   ]
  },
  {
   "cell_type": "markdown",
   "metadata": {},
   "source": [
    "### Math对象\n",
    "- min()与max()\n",
    "- 舍入方法\n",
    "- random()"
   ]
  },
  {
   "cell_type": "code",
   "execution_count": 71,
   "metadata": {
    "collapsed": false
   },
   "outputs": [
    {
     "name": "stdout",
     "output_type": "stream",
     "text": [
      "54\n",
      "3\n"
     ]
    },
    {
     "data": {
      "text/plain": [
       "undefined"
      ]
     },
     "execution_count": 71,
     "metadata": {},
     "output_type": "execute_result"
    }
   ],
   "source": [
    "var max = Math.max(3, 54, 32, 16);\n",
    "alert(max);    //54\n",
    "\n",
    "var min = Math.min(3, 54, 32, 16);\n",
    "alert(min);    //3"
   ]
  },
  {
   "cell_type": "code",
   "execution_count": 72,
   "metadata": {
    "collapsed": false
   },
   "outputs": [
    {
     "name": "stdout",
     "output_type": "stream",
     "text": [
      "26\n",
      "26\n",
      "26\n",
      "26\n",
      "26\n",
      "25\n",
      "25\n",
      "25\n",
      "25\n"
     ]
    },
    {
     "data": {
      "text/plain": [
       "undefined"
      ]
     },
     "execution_count": 72,
     "metadata": {},
     "output_type": "execute_result"
    }
   ],
   "source": [
    "alert(Math.ceil(25.9));     //26\n",
    "alert(Math.ceil(25.5));     //26\n",
    "alert(Math.ceil(25.1));     //26\n",
    "\n",
    "alert(Math.round(25.9));    //26\n",
    "alert(Math.round(25.5));    //26\n",
    "alert(Math.round(25.1));    //25\n",
    "\n",
    "alert(Math.floor(25.9));    //25\n",
    "alert(Math.floor(25.5));    //25\n",
    "alert(Math.floor(25.1));    //25"
   ]
  },
  {
   "cell_type": "code",
   "execution_count": 73,
   "metadata": {
    "collapsed": false
   },
   "outputs": [
    {
     "name": "stdout",
     "output_type": "stream",
     "text": [
      "8\n"
     ]
    },
    {
     "data": {
      "text/plain": [
       "undefined"
      ]
     },
     "execution_count": 73,
     "metadata": {},
     "output_type": "execute_result"
    }
   ],
   "source": [
    "var num = Math.floor(Math.random() * 10 + 1);\n",
    "alert(num);    //a number between 1 and 10"
   ]
  },
  {
   "cell_type": "code",
   "execution_count": 76,
   "metadata": {
    "collapsed": false
   },
   "outputs": [
    {
     "name": "stdout",
     "output_type": "stream",
     "text": [
      "8\n"
     ]
    },
    {
     "data": {
      "text/plain": [
       "undefined"
      ]
     },
     "execution_count": 76,
     "metadata": {},
     "output_type": "execute_result"
    }
   ],
   "source": [
    "var num = Math.floor(Math.random() * 9 + 2);\n",
    "alert(num);    //a number between 2 and 10"
   ]
  },
  {
   "cell_type": "code",
   "execution_count": 77,
   "metadata": {
    "collapsed": false
   },
   "outputs": [
    {
     "name": "stdout",
     "output_type": "stream",
     "text": [
      "4\n",
      "red\n"
     ]
    },
    {
     "data": {
      "text/plain": [
       "undefined"
      ]
     },
     "execution_count": 77,
     "metadata": {},
     "output_type": "execute_result"
    }
   ],
   "source": [
    "function selectFrom(lowerValue, upperValue) {\n",
    "    var choices = upperValue - lowerValue + 1;\n",
    "    return Math.floor(Math.random() * choices + lowerValue);\n",
    "}\n",
    "\n",
    "var num = selectFrom(2, 10);\n",
    "alert(num);   //number between 2 and 10 (inclusive)\n",
    "\n",
    "var colors = [\"red\", \"green\", \"blue\", \"yellow\", \"black\", \"purple\", \"brown\"];\n",
    "var color = colors[selectFrom(0, colors.length-1)];\n",
    "alert(color);  //any of the strings in the array"
   ]
  },
  {
   "cell_type": "code",
   "execution_count": null,
   "metadata": {
    "collapsed": true
   },
   "outputs": [],
   "source": []
  }
 ],
 "metadata": {
  "anaconda-cloud": {},
  "kernelspec": {
   "display_name": "Javascript (Node.js)",
   "language": "javascript",
   "name": "javascript"
  },
  "language_info": {
   "file_extension": ".js",
   "mimetype": "application/javascript",
   "name": "javascript",
   "version": "6.3.1"
  }
 },
 "nbformat": 4,
 "nbformat_minor": 0
}
