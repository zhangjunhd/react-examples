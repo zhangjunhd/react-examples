{
 "cells": [
  {
   "cell_type": "markdown",
   "metadata": {},
   "source": [
    "# 6 面向对象的程序设计\n",
    "- 理解对象\n",
    "- 创建对象\n",
    "- 继承\n",
    "\n",
    "## 理解对象"
   ]
  },
  {
   "cell_type": "code",
   "execution_count": 3,
   "metadata": {
    "collapsed": false
   },
   "outputs": [
    {
     "name": "stdout",
     "output_type": "stream",
     "text": [
      "Nicholas\n"
     ]
    },
    {
     "data": {
      "text/plain": [
       "undefined"
      ]
     },
     "execution_count": 3,
     "metadata": {},
     "output_type": "execute_result"
    }
   ],
   "source": [
    "// golbal define function alert\n",
    "if((typeof alert) === 'undefined') {\n",
    "    global.alert = function(message) {\n",
    "        console.log(message);\n",
    "    }\n",
    "}\n",
    "\n",
    "var person = new Object();\n",
    "person.name = \"Nicholas\";\n",
    "person.age = 29;\n",
    "person.job = \"Software Engineer\";\n",
    "person.sayName = function(){\n",
    "    alert(this.name);\n",
    "};\n",
    "\n",
    "person.sayName();"
   ]
  },
  {
   "cell_type": "markdown",
   "metadata": {},
   "source": [
    "### 属性类型\n",
    "#### 数据属性\n",
    "- Configurable\n",
    "- Enumerable\n",
    "- Writable\n",
    "- Value"
   ]
  },
  {
   "cell_type": "code",
   "execution_count": 4,
   "metadata": {
    "collapsed": false
   },
   "outputs": [
    {
     "name": "stdout",
     "output_type": "stream",
     "text": [
      "Nicholas\n",
      "Nicholas\n"
     ]
    },
    {
     "data": {
      "text/plain": [
       "undefined"
      ]
     },
     "execution_count": 4,
     "metadata": {},
     "output_type": "execute_result"
    }
   ],
   "source": [
    "var person = {};\n",
    "Object.defineProperty(person, \"name\", {\n",
    "    writable: false,\n",
    "    value: \"Nicholas\"\n",
    "});\n",
    "\n",
    "alert(person.name);\n",
    "person.name = \"Michael\";\n",
    "alert(person.name);"
   ]
  },
  {
   "cell_type": "code",
   "execution_count": 5,
   "metadata": {
    "collapsed": false
   },
   "outputs": [
    {
     "name": "stdout",
     "output_type": "stream",
     "text": [
      "Nicholas\n",
      "Nicholas\n"
     ]
    },
    {
     "data": {
      "text/plain": [
       "undefined"
      ]
     },
     "execution_count": 5,
     "metadata": {},
     "output_type": "execute_result"
    }
   ],
   "source": [
    "var person = {};\n",
    "Object.defineProperty(person, \"name\", {\n",
    "    configurable: false,\n",
    "    value: \"Nicholas\"\n",
    "});\n",
    "\n",
    "alert(person.name);\n",
    "delete person.name;\n",
    "alert(person.name);"
   ]
  },
  {
   "cell_type": "code",
   "execution_count": 6,
   "metadata": {
    "collapsed": false
   },
   "outputs": [
    {
     "ename": "TypeError",
     "evalue": "Cannot redefine property: name",
     "output_type": "error",
     "traceback": [
      "TypeError: Cannot redefine property: name",
      "    at Function.defineProperty (native)",
      "    at evalmachine.<anonymous>:8:8",
      "    at ContextifyScript.Script.runInThisContext (vm.js:25:33)",
      "    at Object.exports.runInThisContext (vm.js:77:17)",
      "    at run ([eval]:608:19)",
      "    at onRunRequest ([eval]:379:22)",
      "    at onMessage ([eval]:347:17)",
      "    at emitTwo (events.js:106:13)",
      "    at process.emit (events.js:191:7)",
      "    at process.nextTick (internal/child_process.js:719:12)"
     ]
    }
   ],
   "source": [
    "var person = {};\n",
    "Object.defineProperty(person, \"name\", {\n",
    "    configurable: false,\n",
    "    value: \"Nicholas\"\n",
    "});\n",
    "\n",
    "//throws error\n",
    "Object.defineProperty(person, \"name\", {\n",
    "    configurable: true,\n",
    "    value: \"Nicholas\"\n",
    "});"
   ]
  },
  {
   "cell_type": "markdown",
   "metadata": {},
   "source": [
    "#### 访问器属性\n",
    "- Configurable\n",
    "- Enumerable\n",
    "- Get\n",
    "- Set"
   ]
  },
  {
   "cell_type": "code",
   "execution_count": 7,
   "metadata": {
    "collapsed": false
   },
   "outputs": [
    {
     "name": "stdout",
     "output_type": "stream",
     "text": [
      "2\n"
     ]
    },
    {
     "data": {
      "text/plain": [
       "undefined"
      ]
     },
     "execution_count": 7,
     "metadata": {},
     "output_type": "execute_result"
    }
   ],
   "source": [
    "var book = {\n",
    "    _year: 2004,\n",
    "    edition: 1\n",
    "};\n",
    "\n",
    "Object.defineProperty(book, \"year\", {\n",
    "    get: function(){\n",
    "        return this._year;\n",
    "    },\n",
    "    set: function(newValue){\n",
    "\n",
    "        if (newValue > 2004) {\n",
    "            this._year = newValue;\n",
    "            this.edition += newValue - 2004;\n",
    "\n",
    "        }\n",
    "    }\n",
    "});\n",
    "\n",
    "book.year = 2005;\n",
    "alert(book.edition);   //2"
   ]
  },
  {
   "cell_type": "code",
   "execution_count": 8,
   "metadata": {
    "collapsed": false
   },
   "outputs": [
    {
     "name": "stdout",
     "output_type": "stream",
     "text": [
      "2\n"
     ]
    },
    {
     "data": {
      "text/plain": [
       "undefined"
      ]
     },
     "execution_count": 8,
     "metadata": {},
     "output_type": "execute_result"
    }
   ],
   "source": [
    "var book = {\n",
    "    _year: 2004,\n",
    "    edition: 1\n",
    "};\n",
    "\n",
    "//legacy accessor support\n",
    "book.__defineGetter__(\"year\", function(){\n",
    "    return this._year;    \n",
    "});\n",
    "\n",
    "book.__defineSetter__(\"year\", function(newValue){\n",
    "    if (newValue > 2004) {\n",
    "        this._year = newValue;\n",
    "        this.edition += newValue - 2004;\n",
    "    }    \n",
    "});\n",
    "\n",
    "\n",
    "book.year = 2005;\n",
    "alert(book.edition);   //2"
   ]
  },
  {
   "cell_type": "markdown",
   "metadata": {},
   "source": [
    "### 定义多个属性"
   ]
  },
  {
   "cell_type": "code",
   "execution_count": 9,
   "metadata": {
    "collapsed": false
   },
   "outputs": [
    {
     "name": "stdout",
     "output_type": "stream",
     "text": [
      "1\n"
     ]
    },
    {
     "data": {
      "text/plain": [
       "undefined"
      ]
     },
     "execution_count": 9,
     "metadata": {},
     "output_type": "execute_result"
    }
   ],
   "source": [
    "var book = {};\n",
    "        \n",
    "Object.defineProperties(book, {\n",
    "    _year: {\n",
    "        value: 2004\n",
    "    },\n",
    "\n",
    "    edition: {\n",
    "        value: 1\n",
    "    },\n",
    "\n",
    "    year: {            \n",
    "        get: function(){\n",
    "            return this._year;\n",
    "        },\n",
    "\n",
    "        set: function(newValue){\n",
    "            if (newValue > 2004) {\n",
    "                this._year = newValue;\n",
    "                this.edition += newValue - 2004;\n",
    "            }                  \n",
    "        }            \n",
    "    }        \n",
    "});\n",
    "\n",
    "book.year = 2005;\n",
    "alert(book.edition);   //1"
   ]
  },
  {
   "cell_type": "markdown",
   "metadata": {},
   "source": [
    "### 读取属性的特性"
   ]
  },
  {
   "cell_type": "code",
   "execution_count": 10,
   "metadata": {
    "collapsed": false
   },
   "outputs": [
    {
     "name": "stdout",
     "output_type": "stream",
     "text": [
      "2004\n",
      "false\n",
      "undefined\n",
      "undefined\n",
      "false\n",
      "function\n"
     ]
    },
    {
     "data": {
      "text/plain": [
       "undefined"
      ]
     },
     "execution_count": 10,
     "metadata": {},
     "output_type": "execute_result"
    }
   ],
   "source": [
    "var book = {};\n",
    "        \n",
    "Object.defineProperties(book, {\n",
    "    _year: {\n",
    "        value: 2004\n",
    "    },\n",
    "\n",
    "    edition: {\n",
    "        value: 1\n",
    "    },\n",
    "\n",
    "    year: {            \n",
    "        get: function(){\n",
    "            return this._year;\n",
    "        },\n",
    "\n",
    "        set: function(newValue){\n",
    "            if (newValue > 2004) {\n",
    "                this._year = newValue;\n",
    "                this.edition += newValue - 2004;\n",
    "            }                  \n",
    "        }            \n",
    "    }        \n",
    "});\n",
    "\n",
    "var descriptor = Object.getOwnPropertyDescriptor(book, \"_year\");\n",
    "alert(descriptor.value);          //2004\n",
    "alert(descriptor.configurable);   //false\n",
    "alert(typeof descriptor.get);     //\"undefined\"\n",
    "\n",
    "var descriptor = Object.getOwnPropertyDescriptor(book, \"year\");\n",
    "alert(descriptor.value);          //undefined\n",
    "alert(descriptor.enumerable);     //false\n",
    "alert(typeof descriptor.get);     //\"function\""
   ]
  },
  {
   "cell_type": "markdown",
   "metadata": {},
   "source": [
    "## 创建对象\n",
    "### 工厂模式"
   ]
  },
  {
   "cell_type": "code",
   "execution_count": 11,
   "metadata": {
    "collapsed": false
   },
   "outputs": [
    {
     "name": "stdout",
     "output_type": "stream",
     "text": [
      "Nicholas\n",
      "Greg\n"
     ]
    },
    {
     "data": {
      "text/plain": [
       "undefined"
      ]
     },
     "execution_count": 11,
     "metadata": {},
     "output_type": "execute_result"
    }
   ],
   "source": [
    "function createPerson(name, age, job){\n",
    "    var o = new Object();\n",
    "    o.name = name;\n",
    "    o.age = age;\n",
    "    o.job = job;\n",
    "    o.sayName = function(){\n",
    "        alert(this.name);\n",
    "    };    \n",
    "    return o;\n",
    "}\n",
    "\n",
    "var person1 = createPerson(\"Nicholas\", 29, \"Software Engineer\");\n",
    "var person2 = createPerson(\"Greg\", 27, \"Doctor\");\n",
    "\n",
    "person1.sayName();   //\"Nicholas\"\n",
    "person2.sayName();   //\"Greg\""
   ]
  },
  {
   "cell_type": "markdown",
   "metadata": {},
   "source": [
    "### 构造函数模型"
   ]
  },
  {
   "cell_type": "code",
   "execution_count": 12,
   "metadata": {
    "collapsed": false
   },
   "outputs": [
    {
     "name": "stdout",
     "output_type": "stream",
     "text": [
      "Nicholas\n",
      "Greg\n",
      "true\n",
      "true\n",
      "true\n",
      "true\n",
      "true\n",
      "true\n",
      "false\n"
     ]
    },
    {
     "data": {
      "text/plain": [
       "undefined"
      ]
     },
     "execution_count": 12,
     "metadata": {},
     "output_type": "execute_result"
    }
   ],
   "source": [
    "function Person(name, age, job){\n",
    "    this.name = name;\n",
    "    this.age = age;\n",
    "    this.job = job;\n",
    "    this.sayName = function(){\n",
    "        alert(this.name);\n",
    "    };    \n",
    "}\n",
    "\n",
    "var person1 = new Person(\"Nicholas\", 29, \"Software Engineer\");\n",
    "var person2 = new Person(\"Greg\", 27, \"Doctor\");\n",
    "\n",
    "person1.sayName();   //\"Nicholas\"\n",
    "person2.sayName();   //\"Greg\"\n",
    "\n",
    "alert(person1 instanceof Object);  //true\n",
    "alert(person1 instanceof Person);  //true\n",
    "alert(person2 instanceof Object);  //true\n",
    "alert(person2 instanceof Person);  //true\n",
    "\n",
    "alert(person1.constructor == Person);  //true\n",
    "alert(person2.constructor == Person);  //true\n",
    "\n",
    "alert(person1.sayName == person2.sayName);  //false"
   ]
  },
  {
   "cell_type": "code",
   "execution_count": 14,
   "metadata": {
    "collapsed": false
   },
   "outputs": [
    {
     "name": "stdout",
     "output_type": "stream",
     "text": [
      "Nicholas\n",
      "Greg\n",
      "Kristen\n"
     ]
    },
    {
     "data": {
      "text/plain": [
       "undefined"
      ]
     },
     "execution_count": 14,
     "metadata": {},
     "output_type": "execute_result"
    }
   ],
   "source": [
    "function Person(name, age, job){\n",
    "    this.name = name;\n",
    "    this.age = age;\n",
    "    this.job = job;\n",
    "    this.sayName = function(){\n",
    "        alert(this.name);\n",
    "    };\n",
    "}\n",
    "\n",
    "var person = new Person(\"Nicholas\", 29, \"Software Engineer\");\n",
    "person.sayName();   //\"Nicholas\"\n",
    "\n",
    "Person(\"Greg\", 27, \"Doctor\");  //adds to global\n",
    "sayName();   //\"Greg\"\n",
    "\n",
    "var o = new Object();\n",
    "Person.call(o, \"Kristen\", 25, \"Nurse\");\n",
    "o.sayName();    //\"Kristen\""
   ]
  },
  {
   "cell_type": "code",
   "execution_count": 15,
   "metadata": {
    "collapsed": false
   },
   "outputs": [
    {
     "name": "stdout",
     "output_type": "stream",
     "text": [
      "Nicholas\n",
      "Greg\n",
      "true\n",
      "true\n",
      "true\n",
      "true\n",
      "true\n",
      "true\n",
      "true\n"
     ]
    },
    {
     "data": {
      "text/plain": [
       "undefined"
      ]
     },
     "execution_count": 15,
     "metadata": {},
     "output_type": "execute_result"
    }
   ],
   "source": [
    "function Person(name, age, job){\n",
    "    this.name = name;\n",
    "    this.age = age;\n",
    "    this.job = job;\n",
    "    this.sayName = sayName;\n",
    "}\n",
    "\n",
    "function sayName(){\n",
    "    alert(this.name);\n",
    "}\n",
    "\n",
    "var person1 = new Person(\"Nicholas\", 29, \"Software Engineer\");\n",
    "var person2 = new Person(\"Greg\", 27, \"Doctor\");\n",
    "\n",
    "person1.sayName();   //\"Nicholas\"\n",
    "person2.sayName();   //\"Greg\"\n",
    "\n",
    "alert(person1 instanceof Object);  //true\n",
    "alert(person1 instanceof Person);  //true\n",
    "alert(person2 instanceof Object);  //true\n",
    "alert(person2 instanceof Person);  //true\n",
    "\n",
    "alert(person1.constructor == Person);  //true\n",
    "alert(person2.constructor == Person);  //true\n",
    "\n",
    "alert(person1.sayName == person2.sayName);  //true "
   ]
  },
  {
   "cell_type": "markdown",
   "metadata": {},
   "source": [
    "### 原型模式\n",
    "我们创建的每个函数都有一个prototype属性，这个属性是一个指针，指向一个对象，这个对象的用途是包含可以由特定类型的所有实例共享的属性和方法。"
   ]
  },
  {
   "cell_type": "code",
   "execution_count": 16,
   "metadata": {
    "collapsed": false
   },
   "outputs": [
    {
     "name": "stdout",
     "output_type": "stream",
     "text": [
      "Nicholas\n",
      "Nicholas\n",
      "true\n",
      "true\n",
      "true\n",
      "true\n",
      "Nicholas\n"
     ]
    },
    {
     "data": {
      "text/plain": [
       "undefined"
      ]
     },
     "execution_count": 16,
     "metadata": {},
     "output_type": "execute_result"
    }
   ],
   "source": [
    "function Person(){\n",
    "}\n",
    "\n",
    "Person.prototype.name = \"Nicholas\";\n",
    "Person.prototype.age = 29;\n",
    "Person.prototype.job = \"Software Engineer\";\n",
    "Person.prototype.sayName = function(){\n",
    "    alert(this.name);\n",
    "};\n",
    "\n",
    "var person1 = new Person();\n",
    "person1.sayName();   //\"Nicholas\"\n",
    "\n",
    "var person2 = new Person();\n",
    "person2.sayName();   //\"Nicholas\"\n",
    "\n",
    "alert(person1.sayName == person2.sayName);  //true\n",
    "\n",
    "alert(Person.prototype.isPrototypeOf(person1));  //true\n",
    "alert(Person.prototype.isPrototypeOf(person2));  //true\n",
    "\n",
    "//only works if Object.getPrototypeOf() is available\n",
    "if (Object.getPrototypeOf){\n",
    "    alert(Object.getPrototypeOf(person1) == Person.prototype);  //true\n",
    "    alert(Object.getPrototypeOf(person1).name);  //\"Nicholas\"\n",
    "}"
   ]
  },
  {
   "cell_type": "markdown",
   "metadata": {},
   "source": [
    "通过对象实例重写原型中的值："
   ]
  },
  {
   "cell_type": "code",
   "execution_count": 17,
   "metadata": {
    "collapsed": false
   },
   "outputs": [
    {
     "name": "stdout",
     "output_type": "stream",
     "text": [
      "Greg\n",
      "Nicholas\n"
     ]
    },
    {
     "data": {
      "text/plain": [
       "undefined"
      ]
     },
     "execution_count": 17,
     "metadata": {},
     "output_type": "execute_result"
    }
   ],
   "source": [
    "function Person(){\n",
    "}\n",
    "\n",
    "Person.prototype.name = \"Nicholas\";\n",
    "Person.prototype.age = 29;\n",
    "Person.prototype.job = \"Software Engineer\";\n",
    "Person.prototype.sayName = function(){\n",
    "    alert(this.name);\n",
    "};\n",
    "\n",
    "var person1 = new Person();\n",
    "var person2 = new Person();\n",
    "\n",
    "person1.name = \"Greg\";\n",
    "alert(person1.name);   //\"Greg\" - from instance\n",
    "alert(person2.name);   //\"Nicholas\" - from prototype"
   ]
  },
  {
   "cell_type": "code",
   "execution_count": 18,
   "metadata": {
    "collapsed": false
   },
   "outputs": [
    {
     "name": "stdout",
     "output_type": "stream",
     "text": [
      "Greg\n",
      "Nicholas\n",
      "Nicholas\n"
     ]
    },
    {
     "data": {
      "text/plain": [
       "undefined"
      ]
     },
     "execution_count": 18,
     "metadata": {},
     "output_type": "execute_result"
    }
   ],
   "source": [
    "function Person(){\n",
    "}\n",
    "\n",
    "Person.prototype.name = \"Nicholas\";\n",
    "Person.prototype.age = 29;\n",
    "Person.prototype.job = \"Software Engineer\";\n",
    "Person.prototype.sayName = function(){\n",
    "    alert(this.name);\n",
    "};\n",
    "\n",
    "var person1 = new Person();\n",
    "var person2 = new Person();\n",
    "\n",
    "person1.name = \"Greg\";\n",
    "alert(person1.name);   //\"Greg\" - from instance\n",
    "alert(person2.name);   //\"Nicholas\" - from prototype\n",
    "\n",
    "delete person1.name;\n",
    "alert(person1.name);   //\"Nicholas\" - from the prototype"
   ]
  },
  {
   "cell_type": "markdown",
   "metadata": {},
   "source": [
    "hasOwnProperty():区分实例属性和原型属性："
   ]
  },
  {
   "cell_type": "code",
   "execution_count": 19,
   "metadata": {
    "collapsed": false
   },
   "outputs": [
    {
     "name": "stdout",
     "output_type": "stream",
     "text": [
      "false\n",
      "true\n",
      "Greg\n",
      "true\n",
      "true\n",
      "Nicholas\n",
      "false\n",
      "true\n",
      "Nicholas\n",
      "false\n",
      "true\n"
     ]
    },
    {
     "data": {
      "text/plain": [
       "undefined"
      ]
     },
     "execution_count": 19,
     "metadata": {},
     "output_type": "execute_result"
    }
   ],
   "source": [
    "function Person(){\n",
    "}\n",
    "\n",
    "Person.prototype.name = \"Nicholas\";\n",
    "Person.prototype.age = 29;\n",
    "Person.prototype.job = \"Software Engineer\";\n",
    "Person.prototype.sayName = function(){\n",
    "    alert(this.name);\n",
    "};\n",
    "\n",
    "var person1 = new Person();\n",
    "var person2 = new Person();\n",
    "\n",
    "alert(person1.hasOwnProperty(\"name\"));  //false\n",
    "alert(\"name\" in person1);  //true\n",
    "\n",
    "person1.name = \"Greg\";\n",
    "alert(person1.name);   //\"Greg\" - from instance\n",
    "alert(person1.hasOwnProperty(\"name\"));  //true\n",
    "alert(\"name\" in person1);  //true\n",
    "\n",
    "alert(person2.name);   //\"Nicholas\" - from prototype\n",
    "alert(person2.hasOwnProperty(\"name\"));  //false\n",
    "alert(\"name\" in person2);  //true\n",
    "\n",
    "delete person1.name;\n",
    "alert(person1.name);   //\"Nicholas\" - from the prototype\n",
    "alert(person1.hasOwnProperty(\"name\"));  //false\n",
    "alert(\"name\" in person1);  //true"
   ]
  },
  {
   "cell_type": "markdown",
   "metadata": {},
   "source": [
    "hasPrototypeProperty()只在属性存在于原型时返回true："
   ]
  },
  {
   "cell_type": "code",
   "execution_count": 20,
   "metadata": {
    "collapsed": false
   },
   "outputs": [
    {
     "name": "stdout",
     "output_type": "stream",
     "text": [
      "true\n",
      "false\n"
     ]
    },
    {
     "data": {
      "text/plain": [
       "undefined"
      ]
     },
     "execution_count": 20,
     "metadata": {},
     "output_type": "execute_result"
    }
   ],
   "source": [
    "function hasPrototypeProperty(object, name){\n",
    "    return !object.hasOwnProperty(name) && (name in object);\n",
    "}\n",
    "\n",
    "function Person(){\n",
    "}\n",
    "\n",
    "Person.prototype.name = \"Nicholas\";\n",
    "Person.prototype.age = 29;\n",
    "Person.prototype.job = \"Software Engineer\";\n",
    "Person.prototype.sayName = function(){\n",
    "    alert(this.name);\n",
    "};\n",
    "\n",
    "var person = new Person();        \n",
    "alert(hasPrototypeProperty(person, \"name\"));  //true\n",
    "\n",
    "person.name = \"Greg\";\n",
    "alert(hasPrototypeProperty(person, \"name\"));  //false"
   ]
  },
  {
   "cell_type": "markdown",
   "metadata": {},
   "source": [
    "使用for-in循环，返回的是所有能够通过对象访问的、可枚举的属性，其中既包括存在于实例中的属性，也包括存在于原型中的属性："
   ]
  },
  {
   "cell_type": "code",
   "execution_count": 21,
   "metadata": {
    "collapsed": false
   },
   "outputs": [
    {
     "name": "stdout",
     "output_type": "stream",
     "text": [
      "Found toString\n"
     ]
    },
    {
     "data": {
      "text/plain": [
       "undefined"
      ]
     },
     "execution_count": 21,
     "metadata": {},
     "output_type": "execute_result"
    }
   ],
   "source": [
    "var o = {\n",
    "    toString : function(){\n",
    "        return \"My Object\";\n",
    "    }\n",
    "}\n",
    "\n",
    "for (var prop in o){\n",
    "    if (prop == \"toString\"){\n",
    "        alert(\"Found toString\");\n",
    "    }\n",
    "}"
   ]
  },
  {
   "cell_type": "markdown",
   "metadata": {},
   "source": [
    "Object.keys()取得对象上所有可枚举的实例属性"
   ]
  },
  {
   "cell_type": "code",
   "execution_count": 24,
   "metadata": {
    "collapsed": false
   },
   "outputs": [
    {
     "name": "stdout",
     "output_type": "stream",
     "text": [
      "[ 'name', 'age', 'job', 'sayName' ]\n",
      "[ 'name', 'age' ]\n"
     ]
    },
    {
     "data": {
      "text/plain": [
       "undefined"
      ]
     },
     "execution_count": 24,
     "metadata": {},
     "output_type": "execute_result"
    }
   ],
   "source": [
    "function Person(){\n",
    "}\n",
    "\n",
    "Person.prototype.name = \"Nicholas\";\n",
    "Person.prototype.age = 29;\n",
    "Person.prototype.job = \"Software Engineer\";\n",
    "Person.prototype.sayName = function(){\n",
    "    alert(this.name);\n",
    "};\n",
    "\n",
    "var keys = Object.keys(Person.prototype);\n",
    "alert(keys);   //\"name,age,job,sayName\"\n",
    "\n",
    "var p1 = new Person();\n",
    "p1.name = \"Rob\";\n",
    "p1.age = 31;\n",
    "var p1keys = Object.keys(p1);\n",
    "alert(p1keys);   //\"name,age\""
   ]
  },
  {
   "cell_type": "markdown",
   "metadata": {},
   "source": [
    "getOwnPropertyNames()取得对象上所有实例属性,无论是否可枚举："
   ]
  },
  {
   "cell_type": "code",
   "execution_count": 25,
   "metadata": {
    "collapsed": false
   },
   "outputs": [
    {
     "name": "stdout",
     "output_type": "stream",
     "text": [
      "[ 'constructor', 'name', 'age', 'job', 'sayName' ]\n"
     ]
    },
    {
     "data": {
      "text/plain": [
       "undefined"
      ]
     },
     "execution_count": 25,
     "metadata": {},
     "output_type": "execute_result"
    }
   ],
   "source": [
    "function Person(){\n",
    "}\n",
    "\n",
    "Person.prototype.name = \"Nicholas\";\n",
    "Person.prototype.age = 29;\n",
    "Person.prototype.job = \"Software Engineer\";\n",
    "Person.prototype.sayName = function(){\n",
    "    alert(this.name);\n",
    "};\n",
    "\n",
    "var keys = Object.getOwnPropertyNames(Person.prototype);\n",
    "alert(keys);   //\"constructor,name,age,job,sayName\""
   ]
  },
  {
   "cell_type": "markdown",
   "metadata": {},
   "source": [
    "更简单的原型语法："
   ]
  },
  {
   "cell_type": "code",
   "execution_count": 26,
   "metadata": {
    "collapsed": false
   },
   "outputs": [
    {
     "name": "stdout",
     "output_type": "stream",
     "text": [
      "true\n",
      "true\n",
      "false\n",
      "true\n"
     ]
    },
    {
     "data": {
      "text/plain": [
       "undefined"
      ]
     },
     "execution_count": 26,
     "metadata": {},
     "output_type": "execute_result"
    }
   ],
   "source": [
    "function Person(){\n",
    "}\n",
    "\n",
    "Person.prototype = {\n",
    "    name : \"Nicholas\",\n",
    "    age : 29,\n",
    "    job: \"Software Engineer\",\n",
    "    sayName : function () {\n",
    "        alert(this.name);\n",
    "    }\n",
    "};\n",
    "\n",
    "var friend = new Person();\n",
    "\n",
    "alert(friend instanceof Object);  //true\n",
    "alert(friend instanceof Person);  //true\n",
    "alert(friend.constructor == Person);  //false\n",
    "alert(friend.constructor == Object);  //true"
   ]
  },
  {
   "cell_type": "code",
   "execution_count": 27,
   "metadata": {
    "collapsed": false
   },
   "outputs": [
    {
     "name": "stdout",
     "output_type": "stream",
     "text": [
      "true\n",
      "true\n",
      "true\n",
      "false\n"
     ]
    },
    {
     "data": {
      "text/plain": [
       "undefined"
      ]
     },
     "execution_count": 27,
     "metadata": {},
     "output_type": "execute_result"
    }
   ],
   "source": [
    "function Person(){\n",
    "}\n",
    "\n",
    "Person.prototype = {\n",
    "    constructor : Person, //注意与上例区别\n",
    "    name : \"Nicholas\",\n",
    "    age : 29,\n",
    "    job: \"Software Engineer\",\n",
    "    sayName : function () {\n",
    "        alert(this.name);\n",
    "    }\n",
    "};\n",
    "\n",
    "var friend = new Person();\n",
    "\n",
    "alert(friend instanceof Object);  //true\n",
    "alert(friend instanceof Person);  //true\n",
    "alert(friend.constructor == Person);  //true\n",
    "alert(friend.constructor == Object);  //false"
   ]
  },
  {
   "cell_type": "code",
   "execution_count": 28,
   "metadata": {
    "collapsed": false
   },
   "outputs": [
    {
     "name": "stdout",
     "output_type": "stream",
     "text": [
      "hi\n"
     ]
    },
    {
     "data": {
      "text/plain": [
       "undefined"
      ]
     },
     "execution_count": 28,
     "metadata": {},
     "output_type": "execute_result"
    }
   ],
   "source": [
    "function Person(){\n",
    "}\n",
    "\n",
    "Person.prototype = {\n",
    "    constructor: Person,\n",
    "    name : \"Nicholas\",\n",
    "    age : 29,\n",
    "    job : \"Software Engineer\",\n",
    "    sayName : function () {\n",
    "        alert(this.name);\n",
    "    }\n",
    "};\n",
    "\n",
    "var friend = new Person();\n",
    "\n",
    "Person.prototype.sayHi = function(){\n",
    "    alert(\"hi\");\n",
    "};\n",
    "\n",
    "friend.sayHi();   //\"hi\" - works!"
   ]
  },
  {
   "cell_type": "markdown",
   "metadata": {},
   "source": [
    "调用构造函数时会为实例添加一个指向最初原型的Prototype指针，而把原型修改为另一个对象就等于切断了构造函数与最初原型之间的联系。记住：实例中的指针仅指向原型，而不指向构造函数："
   ]
  },
  {
   "cell_type": "code",
   "execution_count": 29,
   "metadata": {
    "collapsed": false
   },
   "outputs": [
    {
     "ename": "TypeError",
     "evalue": "friend.sayName is not a function",
     "output_type": "error",
     "traceback": [
      "TypeError: friend.sayName is not a function",
      "    at evalmachine.<anonymous>:16:8",
      "    at ContextifyScript.Script.runInThisContext (vm.js:25:33)",
      "    at Object.exports.runInThisContext (vm.js:77:17)",
      "    at run ([eval]:608:19)",
      "    at onRunRequest ([eval]:379:22)",
      "    at onMessage ([eval]:347:17)",
      "    at emitTwo (events.js:106:13)",
      "    at process.emit (events.js:191:7)",
      "    at process.nextTick (internal/child_process.js:719:12)",
      "    at _combinedTickCallback (internal/process/next_tick.js:67:7)"
     ]
    }
   ],
   "source": [
    "function Person(){\n",
    "}\n",
    "\n",
    "var friend = new Person();\n",
    "\n",
    "Person.prototype = {\n",
    "    constructor: Person,\n",
    "    name : \"Nicholas\",\n",
    "    age : 29,\n",
    "    job : \"Software Engineer\",\n",
    "    sayName : function () {\n",
    "        alert(this.name);\n",
    "    }\n",
    "};\n",
    "\n",
    "friend.sayName();   //error"
   ]
  },
  {
   "cell_type": "markdown",
   "metadata": {},
   "source": [
    "通过原生对象的原型，不仅可以取得所有默认方法的引用，而且可以定义新方法："
   ]
  },
  {
   "cell_type": "code",
   "execution_count": 30,
   "metadata": {
    "collapsed": false
   },
   "outputs": [
    {
     "name": "stdout",
     "output_type": "stream",
     "text": [
      "function\n",
      "function\n",
      "true\n"
     ]
    },
    {
     "data": {
      "text/plain": [
       "undefined"
      ]
     },
     "execution_count": 30,
     "metadata": {},
     "output_type": "execute_result"
    }
   ],
   "source": [
    "alert(typeof Array.prototype.sort);         //\"function\"\n",
    "alert(typeof String.prototype.substring);   //\"function\"\n",
    "\n",
    "String.prototype.startsWith = function (text) {\n",
    "    return this.indexOf(text) == 0;\n",
    "};\n",
    "\n",
    "var msg = \"Hello world!\";\n",
    "alert(msg.startsWith(\"Hello\"));   //true"
   ]
  },
  {
   "cell_type": "markdown",
   "metadata": {},
   "source": [
    "原型中所有属性是被很多实例共享的："
   ]
  },
  {
   "cell_type": "code",
   "execution_count": 31,
   "metadata": {
    "collapsed": false
   },
   "outputs": [
    {
     "name": "stdout",
     "output_type": "stream",
     "text": [
      "[ 'Shelby', 'Court', 'Van' ]\n",
      "[ 'Shelby', 'Court', 'Van' ]\n",
      "true\n"
     ]
    },
    {
     "data": {
      "text/plain": [
       "undefined"
      ]
     },
     "execution_count": 31,
     "metadata": {},
     "output_type": "execute_result"
    }
   ],
   "source": [
    "function Person(){\n",
    "}\n",
    "\n",
    "Person.prototype = {\n",
    "    constructor: Person,\n",
    "    name : \"Nicholas\",\n",
    "    age : 29,\n",
    "    job : \"Software Engineer\",\n",
    "    friends : [\"Shelby\", \"Court\"],\n",
    "    sayName : function () {\n",
    "        alert(this.name);\n",
    "    }\n",
    "};\n",
    "\n",
    "var person1 = new Person();\n",
    "var person2 = new Person();\n",
    "\n",
    "person1.friends.push(\"Van\");\n",
    "\n",
    "alert(person1.friends);    //\"Shelby,Court,Van\"\n",
    "alert(person2.friends);    //\"Shelby,Court,Van\"\n",
    "alert(person1.friends === person2.friends);  //true"
   ]
  },
  {
   "cell_type": "markdown",
   "metadata": {},
   "source": [
    "### 组合使用构造函数和原型模式"
   ]
  },
  {
   "cell_type": "code",
   "execution_count": 32,
   "metadata": {
    "collapsed": false
   },
   "outputs": [
    {
     "name": "stdout",
     "output_type": "stream",
     "text": [
      "[ 'Shelby', 'Court', 'Van' ]\n",
      "[ 'Shelby', 'Court' ]\n",
      "false\n",
      "true\n"
     ]
    },
    {
     "data": {
      "text/plain": [
       "undefined"
      ]
     },
     "execution_count": 32,
     "metadata": {},
     "output_type": "execute_result"
    }
   ],
   "source": [
    "function Person(name, age, job){\n",
    "    this.name = name;\n",
    "    this.age = age;\n",
    "    this.job = job;\n",
    "    this.friends = [\"Shelby\", \"Court\"];\n",
    "}\n",
    "\n",
    "Person.prototype = {\n",
    "    constructor: Person,\n",
    "    sayName : function () {\n",
    "        alert(this.name);\n",
    "    }\n",
    "};\n",
    "\n",
    "var person1 = new Person(\"Nicholas\", 29, \"Software Engineer\");\n",
    "var person2 = new Person(\"Greg\", 27, \"Doctor\");\n",
    "\n",
    "person1.friends.push(\"Van\");\n",
    "\n",
    "alert(person1.friends);    //\"Shelby,Court,Van\"\n",
    "alert(person2.friends);    //\"Shelby,Court\"\n",
    "alert(person1.friends === person2.friends);  //false\n",
    "alert(person1.sayName === person2.sayName);  //true"
   ]
  },
  {
   "cell_type": "markdown",
   "metadata": {},
   "source": [
    "### 动态原型模式\n",
    "这里只在sayName()方法不存在的情况下，才会将它添加到原型中。"
   ]
  },
  {
   "cell_type": "code",
   "execution_count": 34,
   "metadata": {
    "collapsed": false
   },
   "outputs": [
    {
     "name": "stdout",
     "output_type": "stream",
     "text": [
      "Nicholas\n"
     ]
    },
    {
     "data": {
      "text/plain": [
       "undefined"
      ]
     },
     "execution_count": 34,
     "metadata": {},
     "output_type": "execute_result"
    }
   ],
   "source": [
    "function Person(name, age, job){\n",
    "        \n",
    "    //properties\n",
    "    this.name = name;\n",
    "    this.age = age;\n",
    "    this.job = job;\n",
    "\n",
    "    //methods\n",
    "    if (typeof this.sayName != \"function\"){\n",
    "\n",
    "        Person.prototype.sayName = function(){\n",
    "            alert(this.name);\n",
    "        };\n",
    "\n",
    "    }\n",
    "}\n",
    "\n",
    "var friend = new Person(\"Nicholas\", 29, \"Software Engineer\");\n",
    "friend.sayName();"
   ]
  },
  {
   "cell_type": "markdown",
   "metadata": {},
   "source": [
    "### 寄生构造函数模式"
   ]
  },
  {
   "cell_type": "code",
   "execution_count": 35,
   "metadata": {
    "collapsed": false
   },
   "outputs": [
    {
     "name": "stdout",
     "output_type": "stream",
     "text": [
      "Nicholas\n"
     ]
    },
    {
     "data": {
      "text/plain": [
       "undefined"
      ]
     },
     "execution_count": 35,
     "metadata": {},
     "output_type": "execute_result"
    }
   ],
   "source": [
    "function Person(name, age, job){\n",
    "    var o = new Object();\n",
    "    o.name = name;\n",
    "    o.age = age;\n",
    "    o.job = job;\n",
    "    o.sayName = function(){\n",
    "        alert(this.name);\n",
    "    };    \n",
    "    return o;\n",
    "}\n",
    "\n",
    "var friend = new Person(\"Nicholas\", 29, \"Software Engineer\");\n",
    "friend.sayName();  //\"Nicholas\""
   ]
  },
  {
   "cell_type": "code",
   "execution_count": 36,
   "metadata": {
    "collapsed": false
   },
   "outputs": [
    {
     "name": "stdout",
     "output_type": "stream",
     "text": [
      "red|blue|green\n",
      "false\n"
     ]
    },
    {
     "data": {
      "text/plain": [
       "undefined"
      ]
     },
     "execution_count": 36,
     "metadata": {},
     "output_type": "execute_result"
    }
   ],
   "source": [
    "function SpecialArray(){       \n",
    " \n",
    "    //create the array\n",
    "    var values = new Array();\n",
    "\n",
    "    //add the values\n",
    "    values.push.apply(values, arguments);\n",
    "\n",
    "    //assign the method\n",
    "    values.toPipedString = function(){\n",
    "        return this.join(\"|\");\n",
    "    };\n",
    "\n",
    "    //return it\n",
    "    return values;        \n",
    "}\n",
    "\n",
    "var colors = new SpecialArray(\"red\", \"blue\", \"green\");\n",
    "alert(colors.toPipedString()); //\"red|blue|green\"\n",
    "\n",
    "alert(colors instanceof SpecialArray);"
   ]
  },
  {
   "cell_type": "markdown",
   "metadata": {},
   "source": [
    "## 继承\n",
    "### 原型链"
   ]
  },
  {
   "cell_type": "code",
   "execution_count": 37,
   "metadata": {
    "collapsed": false
   },
   "outputs": [
    {
     "name": "stdout",
     "output_type": "stream",
     "text": [
      "true\n",
      "true\n",
      "true\n",
      "true\n",
      "true\n",
      "true\n",
      "true\n"
     ]
    },
    {
     "data": {
      "text/plain": [
       "undefined"
      ]
     },
     "execution_count": 37,
     "metadata": {},
     "output_type": "execute_result"
    }
   ],
   "source": [
    "function SuperType(){\n",
    "    this.property = true;\n",
    "}\n",
    "\n",
    "SuperType.prototype.getSuperValue = function(){\n",
    "    return this.property;\n",
    "};\n",
    "\n",
    "function SubType(){\n",
    "    this.subproperty = false;\n",
    "}\n",
    "\n",
    "//inherit from SuperType\n",
    "SubType.prototype = new SuperType();\n",
    "\n",
    "SubType.prototype.getSubValue = function (){\n",
    "    return this.subproperty;\n",
    "};\n",
    "\n",
    "var instance = new SubType();\n",
    "alert(instance.getSuperValue());   //true\n",
    "\n",
    "alert(instance instanceof Object);      //true\n",
    "alert(instance instanceof SuperType);   //true\n",
    "alert(instance instanceof SubType);     //true\n",
    "\n",
    "alert(Object.prototype.isPrototypeOf(instance));    //true\n",
    "alert(SuperType.prototype.isPrototypeOf(instance)); //true\n",
    "alert(SubType.prototype.isPrototypeOf(instance));   //true"
   ]
  },
  {
   "cell_type": "markdown",
   "metadata": {},
   "source": [
    "子类型需要覆盖超类的方法，或者需要添加超类型中不存在的方法。当不管怎样，给原型添加方法的代码一定要放在替换原型的语句之后："
   ]
  },
  {
   "cell_type": "code",
   "execution_count": 38,
   "metadata": {
    "collapsed": false
   },
   "outputs": [
    {
     "name": "stdout",
     "output_type": "stream",
     "text": [
      "false\n"
     ]
    },
    {
     "data": {
      "text/plain": [
       "undefined"
      ]
     },
     "execution_count": 38,
     "metadata": {},
     "output_type": "execute_result"
    }
   ],
   "source": [
    "function SuperType(){\n",
    "    this.property = true;\n",
    "}\n",
    "\n",
    "SuperType.prototype.getSuperValue = function(){\n",
    "    return this.property;\n",
    "};\n",
    "\n",
    "function SubType(){\n",
    "    this.subproperty = false;\n",
    "}\n",
    "\n",
    "//inherit from SuperType\n",
    "SubType.prototype = new SuperType();\n",
    "\n",
    "//new method\n",
    "SubType.prototype.getSubValue = function (){\n",
    "    return this.subproperty;\n",
    "};\n",
    "\n",
    "//override existing method\n",
    "SubType.prototype.getSuperValue = function (){\n",
    "    return false;\n",
    "};\n",
    "\n",
    "var instance = new SubType();\n",
    "alert(instance.getSuperValue());   //false"
   ]
  },
  {
   "cell_type": "markdown",
   "metadata": {},
   "source": [
    "演示刚刚把SuperType的实例赋值给原型，紧接着又将原型替换成一个对象字面量："
   ]
  },
  {
   "cell_type": "code",
   "execution_count": 39,
   "metadata": {
    "collapsed": false
   },
   "outputs": [
    {
     "ename": "TypeError",
     "evalue": "instance.getSuperValue is not a function",
     "output_type": "error",
     "traceback": [
      "TypeError: instance.getSuperValue is not a function",
      "    at evalmachine.<anonymous>:28:16",
      "    at ContextifyScript.Script.runInThisContext (vm.js:25:33)",
      "    at Object.exports.runInThisContext (vm.js:77:17)",
      "    at run ([eval]:608:19)",
      "    at onRunRequest ([eval]:379:22)",
      "    at onMessage ([eval]:347:17)",
      "    at emitTwo (events.js:106:13)",
      "    at process.emit (events.js:191:7)",
      "    at process.nextTick (internal/child_process.js:719:12)",
      "    at _combinedTickCallback (internal/process/next_tick.js:67:7)"
     ]
    }
   ],
   "source": [
    "function SuperType(){\n",
    "    this.property = true;\n",
    "}\n",
    "\n",
    "SuperType.prototype.getSuperValue = function(){\n",
    "    return this.property;\n",
    "};\n",
    "\n",
    "function SubType(){\n",
    "    this.subproperty = false;\n",
    "}\n",
    "\n",
    "//inherit from SuperType\n",
    "SubType.prototype = new SuperType();\n",
    "\n",
    "//try to add new methods - this nullifies the previous line\n",
    "SubType.prototype = {\n",
    "    getSubValue : function (){\n",
    "        return this.subproperty;\n",
    "    },\n",
    "\n",
    "    someOtherMethod : function (){\n",
    "        return false;\n",
    "    }\n",
    "};\n",
    "\n",
    "var instance = new SubType();\n",
    "alert(instance.getSuperValue());   //error!"
   ]
  },
  {
   "cell_type": "markdown",
   "metadata": {},
   "source": [
    "#### 原型链的一些问题\n",
    "- 引用类型值的原型属性会被所有实例共享\n",
    "- 在创建子类型的实例时，不能向超类型的构造函数传递参数"
   ]
  },
  {
   "cell_type": "code",
   "execution_count": 40,
   "metadata": {
    "collapsed": false
   },
   "outputs": [
    {
     "name": "stdout",
     "output_type": "stream",
     "text": [
      "[ 'red', 'blue', 'green', 'black' ]\n",
      "[ 'red', 'blue', 'green', 'black' ]\n"
     ]
    },
    {
     "data": {
      "text/plain": [
       "undefined"
      ]
     },
     "execution_count": 40,
     "metadata": {},
     "output_type": "execute_result"
    }
   ],
   "source": [
    "function SuperType(){\n",
    "    this.colors = [\"red\", \"blue\", \"green\"];\n",
    "}\n",
    "\n",
    "function SubType(){            \n",
    "}\n",
    "\n",
    "//inherit from SuperType\n",
    "SubType.prototype = new SuperType();\n",
    "\n",
    "var instance1 = new SubType();\n",
    "instance1.colors.push(\"black\");\n",
    "alert(instance1.colors);    //\"red,blue,green,black\"\n",
    "\n",
    "var instance2 = new SubType();\n",
    "alert(instance2.colors);    //\"red,blue,green,black\""
   ]
  },
  {
   "cell_type": "markdown",
   "metadata": {},
   "source": [
    "### 借用构造函数\n",
    "解决原型中包含引用类型值所带来的问题-借用构造函数技术：在子类构造函数内部调用超类构造函数："
   ]
  },
  {
   "cell_type": "code",
   "execution_count": 41,
   "metadata": {
    "collapsed": false
   },
   "outputs": [
    {
     "name": "stdout",
     "output_type": "stream",
     "text": [
      "[ 'red', 'blue', 'green', 'black' ]\n",
      "[ 'red', 'blue', 'green' ]\n"
     ]
    },
    {
     "data": {
      "text/plain": [
       "undefined"
      ]
     },
     "execution_count": 41,
     "metadata": {},
     "output_type": "execute_result"
    }
   ],
   "source": [
    "function SuperType(){\n",
    "    this.colors = [\"red\", \"blue\", \"green\"];\n",
    "}\n",
    "\n",
    "function SubType(){  \n",
    "    //inherit from SuperType\n",
    "    SuperType.call(this);\n",
    "}\n",
    "\n",
    "var instance1 = new SubType();\n",
    "instance1.colors.push(\"black\");\n",
    "alert(instance1.colors);    //\"red,blue,green,black\"\n",
    "\n",
    "var instance2 = new SubType();\n",
    "alert(instance2.colors);    //\"red,blue,green\""
   ]
  },
  {
   "cell_type": "markdown",
   "metadata": {},
   "source": [
    "向超类构造函数传递参数："
   ]
  },
  {
   "cell_type": "code",
   "execution_count": 42,
   "metadata": {
    "collapsed": false
   },
   "outputs": [
    {
     "name": "stdout",
     "output_type": "stream",
     "text": [
      "Nicholas\n",
      "29\n"
     ]
    },
    {
     "data": {
      "text/plain": [
       "undefined"
      ]
     },
     "execution_count": 42,
     "metadata": {},
     "output_type": "execute_result"
    }
   ],
   "source": [
    "function SuperType(name){\n",
    "    this.name = name;\n",
    "}\n",
    "\n",
    "function SubType(){  \n",
    "    //inherit from SuperType passing in an argument\n",
    "    SuperType.call(this, \"Nicholas\");\n",
    "\n",
    "    //instance property\n",
    "    this.age = 29;\n",
    "}\n",
    "\n",
    "var instance = new SubType();\n",
    "alert(instance.name);    //\"Nicholas\";\n",
    "alert(instance.age);     //29"
   ]
  },
  {
   "cell_type": "markdown",
   "metadata": {},
   "source": [
    "#### 借用构造函数问题\n",
    "方法都在构造函数中定义，因此函数复用就无从谈起了。而且，在超类型的原型中定义的方法，对子类而言是不可见的，结果所有类型都只能使用构造函数模式。\n",
    "\n",
    "### 组合继承\n",
    "- 使用原型链实现对原型属性的继承，通过借用构造函数来实现对实例属性的继承。\n",
    "- 缺点是两次调用超类型构造函数。"
   ]
  },
  {
   "cell_type": "code",
   "execution_count": 43,
   "metadata": {
    "collapsed": false
   },
   "outputs": [
    {
     "name": "stdout",
     "output_type": "stream",
     "text": [
      "[ 'red', 'blue', 'green', 'black' ]\n",
      "Nicholas\n",
      "29\n",
      "[ 'red', 'blue', 'green' ]\n",
      "Greg\n",
      "27\n"
     ]
    },
    {
     "data": {
      "text/plain": [
       "undefined"
      ]
     },
     "execution_count": 43,
     "metadata": {},
     "output_type": "execute_result"
    }
   ],
   "source": [
    "function SuperType(name){\n",
    "    this.name = name;\n",
    "    this.colors = [\"red\", \"blue\", \"green\"];\n",
    "}\n",
    "\n",
    "SuperType.prototype.sayName = function(){\n",
    "    alert(this.name);\n",
    "};\n",
    "\n",
    "function SubType(name, age){  \n",
    "    SuperType.call(this, name);// 第二次调用SuperType()\n",
    "\n",
    "    this.age = age;\n",
    "}\n",
    "\n",
    "SubType.prototype = new SuperType();// 第一次调用SuperType()\n",
    "\n",
    "SubType.prototype.sayAge = function(){\n",
    "    alert(this.age);\n",
    "};\n",
    "\n",
    "var instance1 = new SubType(\"Nicholas\", 29);\n",
    "instance1.colors.push(\"black\");\n",
    "alert(instance1.colors);  //\"red,blue,green,black\"\n",
    "instance1.sayName();      //\"Nicholas\";\n",
    "instance1.sayAge();       //29\n",
    "\n",
    "\n",
    "var instance2 = new SubType(\"Greg\", 27);\n",
    "alert(instance2.colors);  //\"red,blue,green\"\n",
    "instance2.sayName();      //\"Greg\";\n",
    "instance2.sayAge();       //27"
   ]
  },
  {
   "cell_type": "markdown",
   "metadata": {},
   "source": [
    "### 原型式继承\n",
    "一种实现继承的方法，这种方法没有使用严格意义上的构造函数。在object()函数内部，先创建了一个临时的构造函数，然后将传入的对象作为这个构造函数的原型，最后返回了这个临时类型的一个新实例。从本质上讲，object()对传入其中的对象执行了一次浅复制。"
   ]
  },
  {
   "cell_type": "code",
   "execution_count": 44,
   "metadata": {
    "collapsed": false
   },
   "outputs": [
    {
     "name": "stdout",
     "output_type": "stream",
     "text": [
      "[ 'Shelby', 'Court', 'Van', 'Rob', 'Barbie' ]\n"
     ]
    },
    {
     "data": {
      "text/plain": [
       "undefined"
      ]
     },
     "execution_count": 44,
     "metadata": {},
     "output_type": "execute_result"
    }
   ],
   "source": [
    "function object(o){\n",
    "    function F(){}\n",
    "    F.prototype = o;\n",
    "    return new F();\n",
    "}\n",
    "\n",
    "var person = {\n",
    "    name: \"Nicholas\",\n",
    "    friends: [\"Shelby\", \"Court\", \"Van\"]\n",
    "};\n",
    "\n",
    "var anotherPerson = object(person);\n",
    "anotherPerson.name = \"Greg\";\n",
    "anotherPerson.friends.push(\"Rob\");\n",
    "\n",
    "var yetAnotherPerson = object(person);\n",
    "yetAnotherPerson.name = \"Linda\";\n",
    "yetAnotherPerson.friends.push(\"Barbie\");\n",
    "\n",
    "alert(person.friends);   //\"Shelby,Court,Van,Rob,Barbie\""
   ]
  },
  {
   "cell_type": "markdown",
   "metadata": {},
   "source": [
    "ECMAScript5通过新增Object.create()方法规范化了原型式继承："
   ]
  },
  {
   "cell_type": "code",
   "execution_count": 45,
   "metadata": {
    "collapsed": false
   },
   "outputs": [
    {
     "name": "stdout",
     "output_type": "stream",
     "text": [
      "[ 'Shelby', 'Court', 'Van', 'Rob', 'Barbie' ]\n"
     ]
    },
    {
     "data": {
      "text/plain": [
       "undefined"
      ]
     },
     "execution_count": 45,
     "metadata": {},
     "output_type": "execute_result"
    }
   ],
   "source": [
    "var person = {\n",
    "    name: \"Nicholas\",\n",
    "    friends: [\"Shelby\", \"Court\", \"Van\"]\n",
    "};\n",
    "\n",
    "var anotherPerson = Object.create(person);\n",
    "anotherPerson.name = \"Greg\";\n",
    "anotherPerson.friends.push(\"Rob\");\n",
    "\n",
    "var yetAnotherPerson = Object.create(person);\n",
    "yetAnotherPerson.name = \"Linda\";\n",
    "yetAnotherPerson.friends.push(\"Barbie\");\n",
    "\n",
    "alert(person.friends);   //\"Shelby,Court,Van,Rob,Barbie\""
   ]
  },
  {
   "cell_type": "markdown",
   "metadata": {},
   "source": [
    "Object.create()方法的第二个参数与Object.defineProperties()方法的第二个参数格式相同：每个属性是通过自己的描述符定义的。以这种方式指定的任何属性都会覆盖原型对象上的同名属性："
   ]
  },
  {
   "cell_type": "code",
   "execution_count": 46,
   "metadata": {
    "collapsed": false
   },
   "outputs": [
    {
     "name": "stdout",
     "output_type": "stream",
     "text": [
      "Greg\n"
     ]
    },
    {
     "data": {
      "text/plain": [
       "undefined"
      ]
     },
     "execution_count": 46,
     "metadata": {},
     "output_type": "execute_result"
    }
   ],
   "source": [
    "var person = {\n",
    "    name: \"Nicholas\",\n",
    "    friends: [\"Shelby\", \"Court\", \"Van\"]\n",
    "};\n",
    "\n",
    "var anotherPerson = Object.create(person, {\n",
    "    name: {\n",
    "        value: \"Greg\"\n",
    "    }\n",
    "});\n",
    "\n",
    "alert(anotherPerson.name);  //\"Greg\""
   ]
  },
  {
   "cell_type": "markdown",
   "metadata": {},
   "source": [
    "### 寄生组合式继承\n",
    "- 避免了组合继承两次调用构造函数。\n",
    "- 基本思路：不必为了指定子类型的原型而调用超类型的构造函数，所需要的无非就是超类型原型的一个副本而已。本质上，就是使用寄生式继承来继承超类型的原型，然后再将结果指定给子类型的原型。"
   ]
  },
  {
   "cell_type": "code",
   "execution_count": 47,
   "metadata": {
    "collapsed": false
   },
   "outputs": [
    {
     "name": "stdout",
     "output_type": "stream",
     "text": [
      "[ 'red', 'blue', 'green', 'black' ]\n",
      "Nicholas\n",
      "29\n",
      "[ 'red', 'blue', 'green' ]\n",
      "Greg\n",
      "27\n"
     ]
    },
    {
     "data": {
      "text/plain": [
       "undefined"
      ]
     },
     "execution_count": 47,
     "metadata": {},
     "output_type": "execute_result"
    }
   ],
   "source": [
    "function object(o){\n",
    "    function F(){}\n",
    "    F.prototype = o;\n",
    "    return new F();\n",
    "}\n",
    "\n",
    "function inheritPrototype(subType, superType){\n",
    "    var prototype = object(superType.prototype);   //create object\n",
    "    prototype.constructor = subType;               //augment object\n",
    "    subType.prototype = prototype;                 //assign object\n",
    "}\n",
    "\n",
    "function SuperType(name){\n",
    "    this.name = name;\n",
    "    this.colors = [\"red\", \"blue\", \"green\"];\n",
    "}\n",
    "\n",
    "SuperType.prototype.sayName = function(){\n",
    "    alert(this.name);\n",
    "};\n",
    "\n",
    "function SubType(name, age){  \n",
    "    SuperType.call(this, name);\n",
    "\n",
    "    this.age = age;\n",
    "}\n",
    "\n",
    "inheritPrototype(SubType, SuperType);\n",
    "\n",
    "SubType.prototype.sayAge = function(){\n",
    "    alert(this.age);\n",
    "};\n",
    "\n",
    "var instance1 = new SubType(\"Nicholas\", 29);\n",
    "instance1.colors.push(\"black\");\n",
    "alert(instance1.colors);  //\"red,blue,green,black\"\n",
    "instance1.sayName();      //\"Nicholas\";\n",
    "instance1.sayAge();       //29\n",
    "\n",
    "\n",
    "var instance2 = new SubType(\"Greg\", 27);\n",
    "alert(instance2.colors);  //\"red,blue,green\"\n",
    "instance2.sayName();      //\"Greg\";\n",
    "instance2.sayAge();       //27"
   ]
  },
  {
   "cell_type": "code",
   "execution_count": null,
   "metadata": {
    "collapsed": true
   },
   "outputs": [],
   "source": []
  }
 ],
 "metadata": {
  "anaconda-cloud": {},
  "kernelspec": {
   "display_name": "Javascript (Node.js)",
   "language": "javascript",
   "name": "javascript"
  },
  "language_info": {
   "file_extension": ".js",
   "mimetype": "application/javascript",
   "name": "javascript",
   "version": "6.3.1"
  }
 },
 "nbformat": 4,
 "nbformat_minor": 0
}
