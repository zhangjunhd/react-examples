{
 "cells": [
  {
   "cell_type": "markdown",
   "metadata": {},
   "source": [
    "# 5 引用类型\n",
    "## Object 类型"
   ]
  },
  {
   "cell_type": "code",
   "execution_count": 7,
   "metadata": {
    "collapsed": false
   },
   "outputs": [
    {
     "name": "stdout",
     "output_type": "stream",
     "text": [
      "Name:ZJ\n",
      "Age:29\n",
      "\n",
      "Name:onlyName\n",
      "\n",
      "ZJ\n",
      "ZJ\n"
     ]
    },
    {
     "data": {
      "text/plain": [
       "undefined"
      ]
     },
     "execution_count": 7,
     "metadata": {},
     "output_type": "execute_result"
    }
   ],
   "source": [
    "// golbal define function alert\n",
    "if((typeof alert) === 'undefined') {\n",
    "    global.alert = function(message) {\n",
    "        console.log(message);\n",
    "    }\n",
    "}\n",
    "\n",
    "var person = new Object()\n",
    "person.name = \"ZJ\";\n",
    "person.age = 29;\n",
    "\n",
    "// 对象字面量\n",
    "var person = {\n",
    "    \"name\": \"ZJ\",\n",
    "    age: 29\n",
    "};\n",
    "\n",
    "function displayInfo(args) {\n",
    "    var output = \"\";\n",
    "    \n",
    "    if(typeof args.name == \"string\") {\n",
    "        output += \"Name:\" + args.name + \"\\n\";\n",
    "    }\n",
    "    if(typeof args.age == \"number\") {\n",
    "        output += \"Age:\" + args.age + \"\\n\";\n",
    "    }\n",
    "    alert(output);\n",
    "}\n",
    "\n",
    "displayInfo({\n",
    "    name: \"ZJ\",\n",
    "    age: 29\n",
    "});\n",
    "displayInfo({\n",
    "    name: \"onlyName\"\n",
    "});\n",
    "\n",
    "alert(person[\"name\"]);\n",
    "alert(person.name);"
   ]
  },
  {
   "cell_type": "markdown",
   "metadata": {},
   "source": [
    "## Array类型"
   ]
  },
  {
   "cell_type": "code",
   "execution_count": 11,
   "metadata": {
    "collapsed": false
   },
   "outputs": [
    {
     "name": "stdout",
     "output_type": "stream",
     "text": [
      "red\n",
      "4\n",
      "0\n",
      "black\n",
      "undefined\n"
     ]
    },
    {
     "data": {
      "text/plain": [
       "undefined"
      ]
     },
     "execution_count": 11,
     "metadata": {},
     "output_type": "execute_result"
    }
   ],
   "source": [
    "var colors = new Array();\n",
    "var colors = new Array(3);\n",
    "var names = new Array(\"Greg\");\n",
    "\n",
    "var colors = Array(3);\n",
    "var names = Array(\"Greg\");\n",
    "\n",
    "var colors = [\"red\", \"blue\", \"green\"];\n",
    "var names = [];\n",
    "alert (colors[0]);\n",
    "colors[2] = \"black\"; // update\n",
    "colors[3] = \"brown\"; // append\n",
    "\n",
    "alert(colors.length);\n",
    "alert(names.length);\n",
    "alert(colors[2]);\n",
    "alert(colors[colors.length]);"
   ]
  },
  {
   "cell_type": "code",
   "execution_count": 13,
   "metadata": {
    "collapsed": false
   },
   "outputs": [
    {
     "data": {
      "text/plain": [
       "5"
      ]
     },
     "execution_count": 13,
     "metadata": {},
     "output_type": "execute_result"
    }
   ],
   "source": [
    "var colors = [\"red\", \"blue\", \"green\"];\n",
    "colors[colors.length] = \"black\"; // append\n",
    "colors[colors.length] = \"brown\"; // append\n",
    "colors.length"
   ]
  },
  {
   "cell_type": "code",
   "execution_count": 14,
   "metadata": {
    "collapsed": false
   },
   "outputs": [
    {
     "data": {
      "text/plain": [
       "100"
      ]
     },
     "execution_count": 14,
     "metadata": {},
     "output_type": "execute_result"
    }
   ],
   "source": [
    "var colors = [\"red\", \"blue\", \"green\"];\n",
    "colors[99] = \"black\"; // append\n",
    "colors.length"
   ]
  },
  {
   "cell_type": "markdown",
   "metadata": {},
   "source": [
    "### 检测数组\n",
    "```js\n",
    "if(Arrar.isArray(value)) {\n",
    "   //do something\n",
    "}\n",
    "```\n",
    "\n",
    "### 转换方法"
   ]
  },
  {
   "cell_type": "code",
   "execution_count": 16,
   "metadata": {
    "collapsed": false
   },
   "outputs": [
    {
     "name": "stdout",
     "output_type": "stream",
     "text": [
      "red,blue,green\n",
      "[ 'red', 'blue', 'green' ]\n",
      "[ 'red', 'blue', 'green' ]\n",
      "red,blue,green\n",
      "red||blue||green\n"
     ]
    },
    {
     "data": {
      "text/plain": [
       "undefined"
      ]
     },
     "execution_count": 16,
     "metadata": {},
     "output_type": "execute_result"
    }
   ],
   "source": [
    "var colors = [\"red\", \"blue\", \"green\"];\n",
    "alert(colors.toString());\n",
    "alert(colors.valueOf());\n",
    "alert(colors);\n",
    "alert(colors.join(\",\"));\n",
    "alert(colors.join(\"||\"));"
   ]
  },
  {
   "cell_type": "markdown",
   "metadata": {},
   "source": [
    "### 栈方法"
   ]
  },
  {
   "cell_type": "code",
   "execution_count": 17,
   "metadata": {
    "collapsed": false
   },
   "outputs": [
    {
     "name": "stdout",
     "output_type": "stream",
     "text": [
      "2\n",
      "3\n",
      "black\n",
      "2\n"
     ]
    },
    {
     "data": {
      "text/plain": [
       "undefined"
      ]
     },
     "execution_count": 17,
     "metadata": {},
     "output_type": "execute_result"
    }
   ],
   "source": [
    "var colors = new Array();\n",
    "var count = colors.push(\"red\", \"green\");\n",
    "alert(count);\n",
    "\n",
    "count = colors.push(\"black\");\n",
    "alert(count);\n",
    "\n",
    "var item = colors.pop();\n",
    "alert(item);\n",
    "alert(colors.length);"
   ]
  },
  {
   "cell_type": "code",
   "execution_count": null,
   "metadata": {
    "collapsed": true
   },
   "outputs": [],
   "source": []
  }
 ],
 "metadata": {
  "anaconda-cloud": {},
  "kernelspec": {
   "display_name": "Javascript (Node.js)",
   "language": "javascript",
   "name": "javascript"
  },
  "language_info": {
   "file_extension": ".js",
   "mimetype": "application/javascript",
   "name": "javascript",
   "version": "6.3.1"
  }
 },
 "nbformat": 4,
 "nbformat_minor": 0
}
