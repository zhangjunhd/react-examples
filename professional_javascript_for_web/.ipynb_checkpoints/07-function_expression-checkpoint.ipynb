{
 "cells": [
  {
   "cell_type": "markdown",
   "metadata": {},
   "source": [
    "# 7 函数表达式\n",
    "- 递归\n",
    "- 闭包\n",
    "- 模仿块级作用域\n",
    "- 私有变量\n",
    "\n",
    "Firefox、Safari、Chrome和Opera都给函数定义了一个非标准的name属性："
   ]
  },
  {
   "cell_type": "code",
   "execution_count": 2,
   "metadata": {
    "collapsed": false
   },
   "outputs": [
    {
     "name": "stdout",
     "output_type": "stream",
     "text": [
      "functionName\n"
     ]
    },
    {
     "data": {
      "text/plain": [
       "undefined"
      ]
     },
     "execution_count": 2,
     "metadata": {},
     "output_type": "execute_result"
    }
   ],
   "source": [
    "// golbal define function alert\n",
    "if((typeof alert) === 'undefined') {\n",
    "    global.alert = function(message) {\n",
    "        console.log(message);\n",
    "    }\n",
    "}\n",
    "\n",
    "function functionName(){\n",
    "    //noop\n",
    "}\n",
    "\n",
    "//works only in Firefox, Safari, Chrome, and Opera\n",
    "alert(functionName.name); //\"functionName\""
   ]
  },
  {
   "cell_type": "markdown",
   "metadata": {},
   "source": [
    "关于函数声明，它的一个重要特性就是函数声明提升(function declaration hoisting)，意思是在执行代码之前会先读取函数声明："
   ]
  },
  {
   "cell_type": "code",
   "execution_count": 3,
   "metadata": {
    "collapsed": false
   },
   "outputs": [
    {
     "name": "stdout",
     "output_type": "stream",
     "text": [
      "Hi!\n"
     ]
    },
    {
     "data": {
      "text/plain": [
       "undefined"
      ]
     },
     "execution_count": 3,
     "metadata": {},
     "output_type": "execute_result"
    }
   ],
   "source": [
    "sayHi();\n",
    "function sayHi(){\n",
    "    alert(\"Hi!\");\n",
    "}"
   ]
  },
  {
   "cell_type": "markdown",
   "metadata": {},
   "source": [
    "下面代码不推荐："
   ]
  },
  {
   "cell_type": "code",
   "execution_count": 6,
   "metadata": {
    "collapsed": false
   },
   "outputs": [
    {
     "name": "stdout",
     "output_type": "stream",
     "text": [
      "Hi!\n"
     ]
    },
    {
     "data": {
      "text/plain": [
       "undefined"
      ]
     },
     "execution_count": 6,
     "metadata": {},
     "output_type": "execute_result"
    }
   ],
   "source": [
    "var condition = true;\n",
    "    \n",
    "//never do this!\n",
    "if(condition){\n",
    "    function sayHi(){\n",
    "        alert(\"Hi!\");\n",
    "    }\n",
    "} else {\n",
    "    function sayHi(){\n",
    "        alert(\"Yo!\");\n",
    "    }\n",
    "}\n",
    "\n",
    "sayHi();"
   ]
  },
  {
   "cell_type": "markdown",
   "metadata": {},
   "source": [
    "可以这样做："
   ]
  },
  {
   "cell_type": "code",
   "execution_count": 7,
   "metadata": {
    "collapsed": false
   },
   "outputs": [
    {
     "name": "stdout",
     "output_type": "stream",
     "text": [
      "Hi!\n"
     ]
    },
    {
     "data": {
      "text/plain": [
       "undefined"
      ]
     },
     "execution_count": 7,
     "metadata": {},
     "output_type": "execute_result"
    }
   ],
   "source": [
    "var condition = true;\n",
    "var sayHi;\n",
    "\n",
    "//never do this!\n",
    "if(condition){\n",
    "    sayHi = function(){\n",
    "        alert(\"Hi!\");\n",
    "    }\n",
    "} else {\n",
    "    sayHi = function(){\n",
    "        alert(\"Yo!\");\n",
    "    }\n",
    "}\n",
    "\n",
    "sayHi();"
   ]
  },
  {
   "cell_type": "markdown",
   "metadata": {},
   "source": [
    "## 递归\n",
    "以下代码将factorial的函数指针赋给anotherFactorial，然后将factorial设置为null。这时指向函数体的只有anotherFactorial，但是在函数体内硬编码了factorial："
   ]
  },
  {
   "cell_type": "code",
   "execution_count": 8,
   "metadata": {
    "collapsed": false
   },
   "outputs": [
    {
     "ename": "TypeError",
     "evalue": "factorial is not a function",
     "output_type": "error",
     "traceback": [
      "TypeError: factorial is not a function",
      "    at factorial (evalmachine.<anonymous>:5:22)",
      "    at evalmachine.<anonymous>:11:7",
      "    at ContextifyScript.Script.runInThisContext (vm.js:25:33)",
      "    at Object.exports.runInThisContext (vm.js:77:17)",
      "    at run ([eval]:608:19)",
      "    at onRunRequest ([eval]:379:22)",
      "    at onMessage ([eval]:347:17)",
      "    at emitTwo (events.js:106:13)",
      "    at process.emit (events.js:191:7)",
      "    at process.nextTick (internal/child_process.js:719:12)"
     ]
    }
   ],
   "source": [
    "function factorial(num){\n",
    "    if (num <= 1){\n",
    "        return 1;\n",
    "    } else {\n",
    "        return num * factorial(num-1);\n",
    "    }\n",
    "}\n",
    "\n",
    "var anotherFactorial = factorial;\n",
    "factorial = null;\n",
    "alert(anotherFactorial(4));  //error!"
   ]
  },
  {
   "cell_type": "markdown",
   "metadata": {},
   "source": [
    "arguments.callee是一个指向正在执行的函数的指针："
   ]
  },
  {
   "cell_type": "code",
   "execution_count": 9,
   "metadata": {
    "collapsed": false
   },
   "outputs": [
    {
     "name": "stdout",
     "output_type": "stream",
     "text": [
      "24\n"
     ]
    },
    {
     "data": {
      "text/plain": [
       "undefined"
      ]
     },
     "execution_count": 9,
     "metadata": {},
     "output_type": "execute_result"
    }
   ],
   "source": [
    "function factorial(num){\n",
    "    if (num <= 1){\n",
    "        return 1;\n",
    "    } else {\n",
    "        return num * arguments.callee(num-1);\n",
    "    }\n",
    "}\n",
    "\n",
    "var anotherFactorial = factorial;\n",
    "factorial = null;\n",
    "alert(anotherFactorial(4));  //24"
   ]
  },
  {
   "cell_type": "markdown",
   "metadata": {},
   "source": [
    "## 闭包\n",
    "闭包是指有权访问另一个函数作用域中的变量的函数。\n",
    "\n",
    "```js\n",
    "function createComparisonFunction(propertyName){\n",
    "    return function(obj1, obj2){\n",
    "        var val1 = obj1[propertyName]; // 访问外部函数变量propertyName\n",
    "        var val2 = obj2[propertyName]; // 访问外部函数变量propertyName\n",
    "        \n",
    "        return val1 - val2;\n",
    "    }\n",
    "}\n",
    "```\n",
    "### 闭包与变量\n",
    "闭包只能取得包含函数中任何变量的最后一个值："
   ]
  },
  {
   "cell_type": "code",
   "execution_count": 12,
   "metadata": {
    "collapsed": false
   },
   "outputs": [
    {
     "name": "stdout",
     "output_type": "stream",
     "text": [
      "10<br />\n",
      "10<br />\n",
      "10<br />\n",
      "10<br />\n",
      "10<br />\n",
      "10<br />\n",
      "10<br />\n",
      "10<br />\n",
      "10<br />\n",
      "10<br />\n"
     ]
    },
    {
     "data": {
      "text/plain": [
       "undefined"
      ]
     },
     "execution_count": 12,
     "metadata": {},
     "output_type": "execute_result"
    }
   ],
   "source": [
    "function createFunctions(){\n",
    "    var result = new Array();\n",
    "\n",
    "    for (var i=0; i < 10; i++){\n",
    "        result[i] = function(){\n",
    "            return i;\n",
    "        };\n",
    "    }\n",
    "\n",
    "    return result;\n",
    "}\n",
    "\n",
    "var funcs = createFunctions();\n",
    "\n",
    "//every function outputs 10\n",
    "for (var i=0; i < funcs.length; i++){\n",
    "    alert(funcs[i]() + \"<br />\");\n",
    "}"
   ]
  },
  {
   "cell_type": "markdown",
   "metadata": {},
   "source": [
    "因为每个函数的作用域链中都保存着createFunctions()函数的活动对象，所以它们引用的都是同一个变量i。当createFunctions()返回后，变量i的值是10，此时每个函数引用着保存变量i的同一个变量对象，所以在每个函数内部i的值都是10。可以通过创建另一个匿名函数强制让闭包的行为符合预期："
   ]
  },
  {
   "cell_type": "code",
   "execution_count": 13,
   "metadata": {
    "collapsed": false
   },
   "outputs": [
    {
     "name": "stdout",
     "output_type": "stream",
     "text": [
      "0<br />\n",
      "1<br />\n",
      "2<br />\n",
      "3<br />\n",
      "4<br />\n",
      "5<br />\n",
      "6<br />\n",
      "7<br />\n",
      "8<br />\n",
      "9<br />\n"
     ]
    },
    {
     "data": {
      "text/plain": [
       "undefined"
      ]
     },
     "execution_count": 13,
     "metadata": {},
     "output_type": "execute_result"
    }
   ],
   "source": [
    "function createFunctions(){\n",
    "    var result = new Array();\n",
    "\n",
    "    for (var i=0; i < 10; i++){\n",
    "        result[i] = function(num){\n",
    "            return function(){\n",
    "                return num;\n",
    "            };\n",
    "        }(i);\n",
    "    }\n",
    "\n",
    "    return result;\n",
    "}\n",
    "\n",
    "var funcs = createFunctions();\n",
    "\n",
    "//every function outputs 10\n",
    "for (var i=0; i < funcs.length; i++){\n",
    "    alert(funcs[i]() + \"<br />\");\n",
    "}"
   ]
  },
  {
   "cell_type": "markdown",
   "metadata": {},
   "source": [
    "### 关于this对象\n",
    "this对象是在运行时基于函数的执行环境绑定的：在全局函数中，this等于window，而当函数被作为某个对象的方法调用时，this等于那个对象。不过，匿名函数的执行环境具有全局性："
   ]
  },
  {
   "cell_type": "code",
   "execution_count": 14,
   "metadata": {
    "collapsed": false
   },
   "outputs": [
    {
     "name": "stdout",
     "output_type": "stream",
     "text": [
      "The Window\n"
     ]
    },
    {
     "data": {
      "text/plain": [
       "undefined"
      ]
     },
     "execution_count": 14,
     "metadata": {},
     "output_type": "execute_result"
    }
   ],
   "source": [
    "var name = \"The Window\";\n",
    "        \n",
    "var object = {\n",
    "    name : \"My Object\",\n",
    "\n",
    "    getNameFunc : function(){\n",
    "        return function(){\n",
    "            return this.name;\n",
    "        };\n",
    "    }\n",
    "};\n",
    "\n",
    "alert(object.getNameFunc()());  //\"The Window\""
   ]
  },
  {
   "cell_type": "code",
   "execution_count": 15,
   "metadata": {
    "collapsed": false
   },
   "outputs": [
    {
     "name": "stdout",
     "output_type": "stream",
     "text": [
      "My Object\n"
     ]
    },
    {
     "data": {
      "text/plain": [
       "undefined"
      ]
     },
     "execution_count": 15,
     "metadata": {},
     "output_type": "execute_result"
    }
   ],
   "source": [
    "var name = \"The Window\";\n",
    "            \n",
    "var object = {\n",
    "    name : \"My Object\",\n",
    "\n",
    "    getNameFunc : function(){\n",
    "        var that = this;\n",
    "        return function(){\n",
    "            return that.name;\n",
    "        };\n",
    "    }\n",
    "};\n",
    "\n",
    "alert(object.getNameFunc()());  //\"MyObject\""
   ]
  },
  {
   "cell_type": "markdown",
   "metadata": {},
   "source": [
    "下面第一行代码跟平常一样调用object.getName()，第二行代码在调用这个方法前先给它加上了括号，不改变了执行环境。第三行代码赋值行为，改变了执行环境："
   ]
  },
  {
   "cell_type": "code",
   "execution_count": 16,
   "metadata": {
    "collapsed": false
   },
   "outputs": [
    {
     "name": "stdout",
     "output_type": "stream",
     "text": [
      "My Object\n",
      "My Object\n",
      "The Window\n"
     ]
    },
    {
     "data": {
      "text/plain": [
       "undefined"
      ]
     },
     "execution_count": 16,
     "metadata": {},
     "output_type": "execute_result"
    }
   ],
   "source": [
    "var name = \"The Window\";\n",
    "            \n",
    "var object = {\n",
    "    name : \"My Object\",\n",
    "\n",
    "    getName: function(){\n",
    "        return this.name;\n",
    "    }\n",
    "};\n",
    "\n",
    "alert(object.getName());     //\"My Object\"\n",
    "alert((object.getName)());   //\"My Object\"\n",
    "alert((object.getName = object.getName)());   //\"The Window\" in non-strict mode"
   ]
  },
  {
   "cell_type": "markdown",
   "metadata": {},
   "source": [
    "## 模仿块级作用域\n",
    "JavaScript没有块级作用域。"
   ]
  },
  {
   "cell_type": "code",
   "execution_count": 17,
   "metadata": {
    "collapsed": false
   },
   "outputs": [
    {
     "name": "stdout",
     "output_type": "stream",
     "text": [
      "0\n",
      "1\n",
      "2\n",
      "3\n",
      "4\n",
      "5\n"
     ]
    },
    {
     "data": {
      "text/plain": [
       "undefined"
      ]
     },
     "execution_count": 17,
     "metadata": {},
     "output_type": "execute_result"
    }
   ],
   "source": [
    "function outputNumbers(count){\n",
    "    for (var i=0; i < count; i++){\n",
    "        alert(i);\n",
    "    }\n",
    "\n",
    "    alert(i);   //count\n",
    "}\n",
    "\n",
    "outputNumbers(5);"
   ]
  },
  {
   "cell_type": "markdown",
   "metadata": {},
   "source": [
    "即使像下面这样错误地重新声明同一个变量，也不会改变它的值："
   ]
  },
  {
   "cell_type": "code",
   "execution_count": 19,
   "metadata": {
    "collapsed": false
   },
   "outputs": [
    {
     "name": "stdout",
     "output_type": "stream",
     "text": [
      "0\n",
      "1\n",
      "2\n",
      "3\n",
      "4\n",
      "5\n"
     ]
    },
    {
     "data": {
      "text/plain": [
       "undefined"
      ]
     },
     "execution_count": 19,
     "metadata": {},
     "output_type": "execute_result"
    }
   ],
   "source": [
    "function outputNumbers(count){\n",
    "    for (var i=0; i < count; i++){\n",
    "        alert(i);\n",
    "    }\n",
    "\n",
    "    var i;    //variable re-declared\n",
    "    alert(i);   //count\n",
    "}\n",
    "\n",
    "outputNumbers(5);"
   ]
  },
  {
   "cell_type": "markdown",
   "metadata": {},
   "source": [
    "我们在for循环外部插入了一个私有作用域。在匿名函数中定义的任何变量，都会在执行结束时被销毁。因此，变量i只能在循环中被使用，使用后即被销毁。而在私有作用域中能够访问变量count，是因为这个匿名函数是一个闭包，它能够访问包含作用域中的所有变量。\n",
    "\n",
    "这种技术经常在全局作用域中被用在函数外部，从而限制向全局作用域中添加过多的变量和函数。"
   ]
  },
  {
   "cell_type": "code",
   "execution_count": 20,
   "metadata": {
    "collapsed": false
   },
   "outputs": [
    {
     "name": "stdout",
     "output_type": "stream",
     "text": [
      "0\n",
      "1\n",
      "2\n",
      "3\n",
      "4\n",
      "10\n"
     ]
    },
    {
     "data": {
      "text/plain": [
       "undefined"
      ]
     },
     "execution_count": 20,
     "metadata": {},
     "output_type": "execute_result"
    }
   ],
   "source": [
    "function outputNumbers(count){\n",
    "    (function () {\n",
    "        for (var i=0; i < count; i++){\n",
    "            alert(i);\n",
    "        }\n",
    "    })();\n",
    "\n",
    "    alert(i);   //causes an error\n",
    "}\n",
    "\n",
    "outputNumbers(5);"
   ]
  },
  {
   "cell_type": "markdown",
   "metadata": {},
   "source": [
    "## 私有变量\n",
    "任何在函数中定义的变量，都可以认为是私有变量，因为不能在函数的外部访问这些变量。私有变量包括函数的参数，局部变量和在函数内部定义的其他函数。\n",
    "\n",
    "我们把有权访问私有变量和私有函数的公有方法称为特权方法(privileged method)。有两种在对象上创建特权方法的方式。第一种是在构造函数中定义特权方法：\n",
    "```js\n",
    "function MyObject(){\n",
    "    // 私有变量和私有函数\n",
    "    var privateVariable = 10;\n",
    "    \n",
    "    function privateFunction() {\n",
    "        return false;\n",
    "    }\n",
    "    \n",
    "    // 特权方法\n",
    "    this.publicMethod = function() {\n",
    "        privateVariable++;\n",
    "        return privateFunction();\n",
    "    };\n",
    "}\n",
    "```"
   ]
  },
  {
   "cell_type": "code",
   "execution_count": 21,
   "metadata": {
    "collapsed": false
   },
   "outputs": [
    {
     "name": "stdout",
     "output_type": "stream",
     "text": [
      "Nicholas\n",
      "Greg\n"
     ]
    },
    {
     "data": {
      "text/plain": [
       "undefined"
      ]
     },
     "execution_count": 21,
     "metadata": {},
     "output_type": "execute_result"
    }
   ],
   "source": [
    "function Person(name){\n",
    "    this.getName = function(){\n",
    "        return name;\n",
    "    };\n",
    "\n",
    "    this.setName = function (value) {\n",
    "        name = value;\n",
    "    };\n",
    "}\n",
    "\n",
    "var person = new Person(\"Nicholas\");\n",
    "alert(person.getName());   //\"Nicholas\"\n",
    "person.setName(\"Greg\");\n",
    "alert(person.getName());   //\"Greg\""
   ]
  },
  {
   "cell_type": "markdown",
   "metadata": {},
   "source": [
    "不过构造函数中定义特权方法也有一个缺点，那就是你必须使用构造函数模式来达到这个目的。第6章曾经讨论过，构造函数模式的缺点是针对每个实例都会创建同样的一组新方法，而使用静态私有变量来实现特权方法可以避免这个问题。\n",
    "\n",
    "### 静态私有变量\n",
    "通过在私有作用域中定义私有变量或函数：\n",
    "```js\n",
    "(function(){\n",
    "    // 私有变量和私有函数\n",
    "    var privateVariable = 10;\n",
    "    \n",
    "    function privateFunction() {\n",
    "        return false;\n",
    "    }\n",
    "    \n",
    "    // 构造函数\n",
    "    MyObject = function(){\n",
    "    };\n",
    "    \n",
    "    // 公有/特权方法\n",
    "    this.publicMethod = function() {\n",
    "        privateVariable++;\n",
    "        return privateFunction();\n",
    "    };\n",
    "})();\n",
    "```"
   ]
  },
  {
   "cell_type": "code",
   "execution_count": 22,
   "metadata": {
    "collapsed": false
   },
   "outputs": [
    {
     "name": "stdout",
     "output_type": "stream",
     "text": [
      "Nicholas\n",
      "Greg\n",
      "Michael\n",
      "Michael\n"
     ]
    },
    {
     "data": {
      "text/plain": [
       "undefined"
      ]
     },
     "execution_count": 22,
     "metadata": {},
     "output_type": "execute_result"
    }
   ],
   "source": [
    "(function(){\n",
    "    var name = \"\";\n",
    "\n",
    "    Person = function(value){                \n",
    "        name = value;                \n",
    "    };\n",
    "\n",
    "    Person.prototype.getName = function(){\n",
    "        return name;\n",
    "    };\n",
    "\n",
    "    Person.prototype.setName = function (value){\n",
    "        name = value;\n",
    "    };\n",
    "})();\n",
    "\n",
    "var person1 = new Person(\"Nicholas\");\n",
    "alert(person1.getName());   //\"Nicholas\"\n",
    "person1.setName(\"Greg\");\n",
    "alert(person1.getName());   //\"Greg\"\n",
    "\n",
    "var person2 = new Person(\"Michael\");\n",
    "alert(person1.getName());   //\"Michael\"\n",
    "alert(person2.getName());   //\"Michael\""
   ]
  },
  {
   "cell_type": "markdown",
   "metadata": {},
   "source": [
    "以这种方式创建静态私有变量会因为使用原型而增进代码复用，当每个实例都没有自己的私有变量。到底是使用实例变量，还是静态私有变量，最终要视情况而定。\n",
    "\n",
    "### 模块模式\n",
    "JavaScript是以对象字面量的方式来创建单例对象的：\n",
    "\n",
    "```js\n",
    "var singleton = {\n",
    "    name : value,\n",
    "    method: function() {\n",
    "        //这里是方法代码\n",
    "    }\n",
    "};\n",
    "```\n",
    "\n",
    "模块模式通过为单例添加私有变量和特权方法能够使其得到增强：\n",
    "\n",
    "```js\n",
    "var singleton = function(){\n",
    "    // 私有变量和私有函数\n",
    "    var privateVariable = 10;\n",
    "    \n",
    "    function privateFunction(){\n",
    "        return false;\n",
    "    }\n",
    "    \n",
    "    // 特权/公有方法和属性\n",
    "    return {\n",
    "        publicProperty: true;\n",
    "        \n",
    "        publicMethod: function(){\n",
    "            privateVariable++;\n",
    "            return privateFunction();\n",
    "        }\n",
    "    };\n",
    "}();\n",
    "```"
   ]
  },
  {
   "cell_type": "code",
   "execution_count": 23,
   "metadata": {
    "collapsed": false
   },
   "outputs": [
    {
     "name": "stdout",
     "output_type": "stream",
     "text": [
      "2\n"
     ]
    },
    {
     "data": {
      "text/plain": [
       "undefined"
      ]
     },
     "execution_count": 23,
     "metadata": {},
     "output_type": "execute_result"
    }
   ],
   "source": [
    "function BaseComponent(){\n",
    "}\n",
    "\n",
    "function OtherComponent(){\n",
    "}\n",
    "\n",
    "var application = function(){\n",
    "\n",
    "    //private variables and functions\n",
    "    var components = new Array();\n",
    "\n",
    "    //initialization\n",
    "    components.push(new BaseComponent());\n",
    "\n",
    "    //public interface\n",
    "    return {\n",
    "        getComponentCount : function(){\n",
    "            return components.length;\n",
    "        },\n",
    "\n",
    "        registerComponent : function(component){\n",
    "            if (typeof component == \"object\"){\n",
    "                components.push(component);\n",
    "            }\n",
    "        }\n",
    "    };\n",
    "}();\n",
    "\n",
    "application.registerComponent(new OtherComponent());\n",
    "alert(application.getComponentCount());  //2"
   ]
  },
  {
   "cell_type": "markdown",
   "metadata": {},
   "source": [
    "### 增强的模块模式\n",
    "这种增强的模块模式适合那些单例必须是某种类型的实例，同时还必须添加某些属性和(或)方法对其加以增强的情况。\n",
    "\n",
    "```js\n",
    "var singleton = function(){\n",
    "    // 私有变量和私有函数\n",
    "    var privateVariable = 10;\n",
    "\n",
    "    function privateFunction(){\n",
    "        return false;\n",
    "    }\n",
    "    \n",
    "    // 创建对象\n",
    "    var object = new CustomType();\n",
    "\n",
    "    // 添加特权/公有方法和属性\n",
    "    object.publicProperty = true;\n",
    "\n",
    "    object.publicMethod = function(){\n",
    "            privateVariable++;\n",
    "            return privateFunction();\n",
    "    };\n",
    "    \n",
    "    return object;\n",
    "}();\n",
    "```"
   ]
  },
  {
   "cell_type": "code",
   "execution_count": 24,
   "metadata": {
    "collapsed": false
   },
   "outputs": [
    {
     "name": "stdout",
     "output_type": "stream",
     "text": [
      "true\n",
      "2\n"
     ]
    },
    {
     "data": {
      "text/plain": [
       "undefined"
      ]
     },
     "execution_count": 24,
     "metadata": {},
     "output_type": "execute_result"
    }
   ],
   "source": [
    "function BaseComponent(){\n",
    "}\n",
    "\n",
    "function OtherComponent(){\n",
    "}\n",
    "\n",
    "var application = function(){\n",
    "\n",
    "    //private variables and functions\n",
    "    var components = new Array();\n",
    "\n",
    "    //initialization\n",
    "    components.push(new BaseComponent());\n",
    "\n",
    "    //create a local copy of application\n",
    "    var app = new BaseComponent();\n",
    "\n",
    "    //public interface\n",
    "    app.getComponentCount = function(){\n",
    "        return components.length;\n",
    "    };\n",
    "\n",
    "    app.registerComponent = function(component){\n",
    "        if (typeof component == \"object\"){\n",
    "            components.push(component);\n",
    "        }\n",
    "    };\n",
    "\n",
    "    //return it\n",
    "    return app;\n",
    "}();\n",
    "\n",
    "alert(application instanceof BaseComponent);\n",
    "application.registerComponent(new OtherComponent());\n",
    "alert(application.getComponentCount());  //2"
   ]
  },
  {
   "cell_type": "code",
   "execution_count": null,
   "metadata": {
    "collapsed": true
   },
   "outputs": [],
   "source": []
  }
 ],
 "metadata": {
  "kernelspec": {
   "display_name": "Javascript (Node.js)",
   "language": "javascript",
   "name": "javascript"
  },
  "language_info": {
   "file_extension": ".js",
   "mimetype": "application/javascript",
   "name": "javascript",
   "version": "6.3.1"
  }
 },
 "nbformat": 4,
 "nbformat_minor": 0
}
